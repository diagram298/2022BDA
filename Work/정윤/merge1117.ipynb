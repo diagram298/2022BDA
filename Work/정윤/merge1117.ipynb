{
 "cells": [
  {
   "cell_type": "code",
   "execution_count": 11,
   "id": "216d119d",
   "metadata": {},
   "outputs": [],
   "source": [
    "import pandas as pd\n",
    "import os\n",
    "import openpyxl           # pip install openpyxl"
   ]
  },
  {
   "cell_type": "code",
   "execution_count": 37,
   "id": "f09d02ce",
   "metadata": {
    "collapsed": true
   },
   "outputs": [
    {
     "name": "stderr",
     "output_type": "stream",
     "text": [
      "C:\\Users\\DMC CONET\\AppData\\Local\\Temp\\ipykernel_15784\\560618679.py:7: DtypeWarning: Columns (14,19) have mixed types. Specify dtype option on import or set low_memory=False.\n",
      "  디자인권정보 = pd.read_csv('./디자인권정보.csv')\n",
      "C:\\Users\\DMC CONET\\AppData\\Local\\Temp\\ipykernel_15784\\560618679.py:8: DtypeWarning: Columns (10) have mixed types. Specify dtype option on import or set low_memory=False.\n",
      "  상표권정보 = pd.read_csv('./상표권정보.csv')\n"
     ]
    }
   ],
   "source": [
    "경영진정보 = pd.read_csv('./경영진정보.csv')\n",
    "국가RD과제 = pd.read_csv('./국가R&D과제.csv')\n",
    "국가RD성과 = pd.read_csv('./국가R&D성과.csv')\n",
    "국가RD연구보고서 = pd.read_csv('./국가R&D연구보고서.csv')\n",
    "기업정보상세 = pd.read_csv('./기업정보상세.csv')\n",
    "기업정보요약 = pd.read_csv('./기업정보요약.csv')\n",
    "디자인권정보 = pd.read_csv('./디자인권정보.csv')\n",
    "상표권정보 = pd.read_csv('./상표권정보.csv')\n",
    "신용등급 = pd.read_csv('./신용등급.csv')\n",
    "실용신안정보 = pd.read_csv('./실용신안정보.csv')\n",
    "온라인뉴스 = pd.read_csv('./온라인뉴스.csv')\n",
    "재무제표정보 = pd.read_csv('./재무제표정보.csv')\n",
    "취업포탈뉴스 = pd.read_csv('./취업포탈뉴스.csv')\n",
    "특허정보상세 = pd.read_csv('./특허정보상세.csv')\n",
    "특허정보요약 = pd.read_csv('./특허정보요약.csv')\n",
    "패밀리특허정보 = pd.read_csv('./패밀리특허정보.csv')"
   ]
  },
  {
   "cell_type": "markdown",
   "id": "8f8aff63",
   "metadata": {},
   "source": [
    "# columns"
   ]
  },
  {
   "cell_type": "code",
   "execution_count": 9,
   "id": "0cce73bc",
   "metadata": {},
   "outputs": [
    {
     "data": {
      "text/plain": [
       "Index(['사업자등록번호', '순번', '데이터수집일자', '기업코드', '경영진명', '직위코드', '직위명칭', '담당업무명',\n",
       "       '등기상태', '등기상태명', '경영진영문명', '우편번호', '주소', '상세주소', '학력명세', '주요경력사항',\n",
       "       '작업구분코드', '데이터생성일자', '연계처리상태코드', '연계처리일자'],\n",
       "      dtype='object')"
      ]
     },
     "execution_count": 9,
     "metadata": {},
     "output_type": "execute_result"
    }
   ],
   "source": [
    "경영진정보.columns"
   ]
  },
  {
   "cell_type": "code",
   "execution_count": 10,
   "id": "01e8dee8",
   "metadata": {},
   "outputs": [
    {
     "data": {
      "text/plain": [
       "Index(['사업자등록번호', '순번', '데이터수집일자', '프로젝트번호', '프로젝트국문명', '프로젝트영문명', '메니저명',\n",
       "       '연구참여자명', '남성참여연구자수', '여성참여연구자수', '연구목표', '연구목표요약', '연구내용', '연구내용요약',\n",
       "       '기대효과', '기대효과요약', '국문키워드', '영문키워드', '과제관리기관명', '주관기관명', '예산사업명', '사업명',\n",
       "       '큰프로젝트명', '대표전문기관명', '부처명', '기준연도', '당해연구시작일자', '당해연구종료일자',\n",
       "       '총연구기간연구시작일자', '총연구기간연구종료일자', '과학기술표준대분류코드', '과학기술표준대분류명',\n",
       "       '과학기술표준중분류코드', '과학기술표준중분류명', '과학기술표준소분류코드', '과학기술표준소분류명', '부처자체분류명_대',\n",
       "       '부처자체분류명_중', '부처자체분류명_소', '임시분류명_대', '임시분류명_중', '임시분류명_소', '연구수행주체코드',\n",
       "       '연구수행주체명', '연구개발단계코드', '연구개발단계명', '기술수명주기코드', '기술수명주기명', '지역구분코드',\n",
       "       '지연구분명', '경제사회목적', '6T코드', '6T분류명', '적용분야분류코드1', '적용분야분류명1', '적용분야분류명2',\n",
       "       '적용분야분류명3', '연속과제여부구분', '정책사업여부', '정부연구비', '매칭펀드금액', '총연구비', '시리즈프로젝트',\n",
       "       '작업구분코드', '데이터생성일자', '연계처리상태코드', '연계처리일자'],\n",
       "      dtype='object')"
      ]
     },
     "execution_count": 10,
     "metadata": {},
     "output_type": "execute_result"
    }
   ],
   "source": [
    "국가RD과제.columns"
   ]
  },
  {
   "cell_type": "code",
   "execution_count": 11,
   "id": "029109e8",
   "metadata": {},
   "outputs": [
    {
     "data": {
      "text/plain": [
       "Index(['사업자등록번호', '순번', '데이터수집일자', '데이터구분', '과제명', '과제코드', '성과ID', '성과고유번호',\n",
       "       '성과년도', '과제기준년도', '부처코드', '부처명', '예산사업코드', '예산사업명', '연구수행기관코드',\n",
       "       '연구수행주체명', '6T코드', '6T분류명', '국가기술지도코드', '국가기술지도명', '과학기술표준대분류코드',\n",
       "       '과학기술표준대분류명', '과학기술표준중분류코드', '과학기술표준중분류명', '과학기술표준소분류코드', '과학기술표준소분류명',\n",
       "       '작업구분코드', '데이터생성일자', '연계처리상태코드', '연계처리일자'],\n",
       "      dtype='object')"
      ]
     },
     "execution_count": 11,
     "metadata": {},
     "output_type": "execute_result"
    }
   ],
   "source": [
    "국가RD성과.columns"
   ]
  },
  {
   "cell_type": "code",
   "execution_count": 12,
   "id": "284eadc9",
   "metadata": {},
   "outputs": [
    {
     "data": {
      "text/plain": [
       "Index(['사업자등록번호', '순번', '데이터수집일자', '발행년도', '보고서등록번호', '발행기관명', '보고서한글명',\n",
       "       '보고서영문명', '초록한글', '초록영문', '국문키워드', '영문키워드', '목차', '발행국가명', '사용언어',\n",
       "       '원문정보URL', '과제고유번호', '과제명', '과제수행기관명', '연구책임자명', '작업구분코드', '데이터생성일자',\n",
       "       '연계처리상태코드', '연계처리일자'],\n",
       "      dtype='object')"
      ]
     },
     "execution_count": 12,
     "metadata": {},
     "output_type": "execute_result"
    }
   ],
   "source": [
    "국가RD연구보고서.columns"
   ]
  },
  {
   "cell_type": "code",
   "execution_count": 13,
   "id": "8df1a2f3",
   "metadata": {},
   "outputs": [
    {
     "data": {
      "text/plain": [
       "Index(['사업자등록번호', '데이터수집일자', '기업명', '기업영문명', '대표자명', '종업원수', '종업원수기준년월',\n",
       "       '산업분류코드', '산업분류코드설명', '기업규모', '기업형태', '업태명', '설립일', '이메일주소', '전화번호',\n",
       "       '팩스전화번호', '우편번호', '주소', '상세주보', '휴폐업구분', '상태발생일자', '휴폐업수정일', 'CRI등급',\n",
       "       'CRI기준일', '결산일자', '매출액', '영업이익', '자본총계금액', '부채총계금액', '자산총계금액', '작업구분코드',\n",
       "       '데이터생성일자', '연계처리상태코드', '연계처리일자'],\n",
       "      dtype='object')"
      ]
     },
     "execution_count": 13,
     "metadata": {},
     "output_type": "execute_result"
    }
   ],
   "source": [
    "기업정보상세.columns"
   ]
  },
  {
   "cell_type": "code",
   "execution_count": 14,
   "id": "81bdd7ef",
   "metadata": {},
   "outputs": [
    {
     "data": {
      "text/plain": [
       "Index(['사업자등록번호', '데이터수집일자', '기업명', '대표자명', '전화번호', '팩스전화번호', '우편번호', '주소',\n",
       "       '상세주소', '기업형태', '기업규모', '공기업구분', '산업분류코드', '산업분류코드설명', '작업구분코드',\n",
       "       '데이터생성일자', '연계처리상태코드', '연계처리일자'],\n",
       "      dtype='object')"
      ]
     },
     "execution_count": 14,
     "metadata": {},
     "output_type": "execute_result"
    }
   ],
   "source": [
    "기업정보요약.columns"
   ]
  },
  {
   "cell_type": "code",
   "execution_count": 15,
   "id": "fb865403",
   "metadata": {},
   "outputs": [
    {
     "data": {
      "text/plain": [
       "Index(['사업자등록번호', '순번', '데이터수집일자', '대리인', '출원잠조번호', '출원인명', '출원일자', '출원번호',\n",
       "       '출원상태', '물품명칭', '디자인분류', '디자인번호', '형태분류', '국제등록일자', '국제등록번호', '창작자명',\n",
       "       '공개일자', '공개번호', '우선권주장일자', '우선권주장번호', '공고일자', '공고번호', '등록참조번호', '등록일자',\n",
       "       '등록번호', '작업구분코드', '데이터생성일자', '연계처리상태코드', '연계처리일자'],\n",
       "      dtype='object')"
      ]
     },
     "execution_count": 15,
     "metadata": {},
     "output_type": "execute_result"
    }
   ],
   "source": [
    "디자인권정보.columns"
   ]
  },
  {
   "cell_type": "code",
   "execution_count": 16,
   "id": "10c2a541",
   "metadata": {},
   "outputs": [
    {
     "data": {
      "text/plain": [
       "Index(['사업자등록번호', '순번', '데이터수집일자', '대리인', '출원인명', '출원일자', '출원번호', '출원상태',\n",
       "       '상품분류코드', '우선권주장일자', '우선권주장번호', '공고일자', '공고번호', '등록권자', '등록일자', '등록번호',\n",
       "       '상표권명칭', '도형코드', '작업구분코드', '데이터생성일자', '연계처리상태코드', '연계처리일자'],\n",
       "      dtype='object')"
      ]
     },
     "execution_count": 16,
     "metadata": {},
     "output_type": "execute_result"
    }
   ],
   "source": [
    "상표권정보.columns"
   ]
  },
  {
   "cell_type": "code",
   "execution_count": 17,
   "id": "ecb7c1cb",
   "metadata": {},
   "outputs": [
    {
     "data": {
      "text/plain": [
       "Index(['사업자등록번호', '데이터수집일자', '기업코드', '기업명', '업종', '업종명', '기업규모', '기업규모명',\n",
       "       'CRI등급', 'CRI기준일', '결산일자', 'CRI등급설명', 'CRI등급명세', '작업구분코드', '데이터생성일자',\n",
       "       '연계처리상태코드', '연계처리일자'],\n",
       "      dtype='object')"
      ]
     },
     "execution_count": 17,
     "metadata": {},
     "output_type": "execute_result"
    }
   ],
   "source": [
    "신용등급.columns"
   ]
  },
  {
   "cell_type": "code",
   "execution_count": 18,
   "id": "7699578e",
   "metadata": {},
   "outputs": [
    {
     "data": {
      "text/plain": [
       "Index(['사업자등록번호', '순번', '데이터수집일자', '출원인명', '출원일자', '출원번호', '초록', '발명명칭',\n",
       "       'IPC코드내용', '공개일자', '공개번호', '공고일자', '공고번호', '등록일자', '등록번호', '등록상태',\n",
       "       '작업구분코드', '데이터생성일자', '연계처리상태코드', '연계처리일자'],\n",
       "      dtype='object')"
      ]
     },
     "execution_count": 18,
     "metadata": {},
     "output_type": "execute_result"
    }
   ],
   "source": [
    "실용신안정보.columns"
   ]
  },
  {
   "cell_type": "code",
   "execution_count": 19,
   "id": "77ec4356",
   "metadata": {},
   "outputs": [
    {
     "data": {
      "text/plain": [
       "Index(['사업자등록번호', '순번', '데이터수집일자', '언론사명', '기사날짜', '기사제목', '기사내용', '기자명',\n",
       "       'URL링크', '작업구분코드', '데이터생성일자', '연계처리상태코드', '연계처리일자'],\n",
       "      dtype='object')"
      ]
     },
     "execution_count": 19,
     "metadata": {},
     "output_type": "execute_result"
    }
   ],
   "source": [
    "온라인뉴스.columns"
   ]
  },
  {
   "cell_type": "code",
   "execution_count": 20,
   "id": "fc416a7c",
   "metadata": {},
   "outputs": [
    {
     "data": {
      "text/plain": [
       "Index(['사업자등록번호', '순번', '데이터수집일자', '조사년도', '재무보고서구분코드', '재무보고서명칭', '상세구분코드',\n",
       "       '상세구분명칭', '재무제표기준년월', '재무제표계정과목코드', '재무제표계정과목명', '재무제표계정과목금액', '구성비율',\n",
       "       '증감율', '작업구분코드', '데이터생성일자', '연계처리상태코드', '연계처리일자'],\n",
       "      dtype='object')"
      ]
     },
     "execution_count": 20,
     "metadata": {},
     "output_type": "execute_result"
    }
   ],
   "source": [
    "재무제표정보.columns"
   ]
  },
  {
   "cell_type": "code",
   "execution_count": 21,
   "id": "dea7d2ed",
   "metadata": {},
   "outputs": [
    {
     "data": {
      "text/plain": [
       "Index(['사업자등록번호', '순번', '데이터수집일자', '직군명', '직원여부분류명', '댓글작성년월', '종합점수',\n",
       "       '승진기회점수', '복지및급여점수', '업무생명균형점수', '기업문화점수', '경영진점수', '취업사이트댓글제목',\n",
       "       '기업장점설명', '기업단점설명', '경영진요청사항설명', '기업성장가능성설명', '기업추천여부설명', '작업구분코드',\n",
       "       '데이터생성일자', '연계처리상태코드', '연계처리일자'],\n",
       "      dtype='object')"
      ]
     },
     "execution_count": 21,
     "metadata": {},
     "output_type": "execute_result"
    }
   ],
   "source": [
    "취업포탈뉴스.columns"
   ]
  },
  {
   "cell_type": "code",
   "execution_count": 22,
   "id": "65f5ffb9",
   "metadata": {},
   "outputs": [
    {
     "data": {
      "text/plain": [
       "Index(['사업자등록번호', '순번', '데이터수집일자', '특허명칭', '초록', '국가코드', '국가코드명', '특허법적상태',\n",
       "       'IPC코드내용', '국문발명자명칭', '영문발명자명칭', '출원인명', '출원일자', '출원번호', '공개일자', '공개번호',\n",
       "       '등록일자', '등록번호', '공고일자', '공고번호', 'NDSL상세보기URL', '작업구분코드', '데이터생성일자',\n",
       "       '연계처리상태코드', '연계처리일자'],\n",
       "      dtype='object')"
      ]
     },
     "execution_count": 22,
     "metadata": {},
     "output_type": "execute_result"
    }
   ],
   "source": [
    "특허정보상세.columns"
   ]
  },
  {
   "cell_type": "code",
   "execution_count": 23,
   "id": "4ad14865",
   "metadata": {},
   "outputs": [
    {
     "data": {
      "text/plain": [
       "Index(['사업자등록번호', '순번', '데이터수집일자', '출원번호', '특허명', '출원날짜', 'CPC번호', '인용수',\n",
       "       '피인용수', '발명자수', '청구항수', '작업구분코드', '데이터생성일자', '연계처리상태코드', '연계처리일자'],\n",
       "      dtype='object')"
      ]
     },
     "execution_count": 23,
     "metadata": {},
     "output_type": "execute_result"
    }
   ],
   "source": [
    "특허정보요약.columns"
   ]
  },
  {
   "cell_type": "code",
   "execution_count": 24,
   "id": "307f1f79",
   "metadata": {},
   "outputs": [
    {
     "data": {
      "text/plain": [
       "Index(['사업자등록번호', '순번', '데이터수집일자', '국내출원번호', 'DOCDB패밀리ID', 'DOCDB출원국가코드',\n",
       "       'DOCDB출원일자', 'DOCDB출원종류코드', 'DOCDB출원번호', 'DOCDB공보국가코드', 'DOCDB공보일자',\n",
       "       'DOCDB공보종류코드', 'DOCDB공보번호', '작업구분코드', '데이터생성일자', '연계처리상태코드', '연계처리일자'],\n",
       "      dtype='object')"
      ]
     },
     "execution_count": 24,
     "metadata": {},
     "output_type": "execute_result"
    }
   ],
   "source": [
    "패밀리특허정보.columns"
   ]
  },
  {
   "cell_type": "markdown",
   "id": "9ea855da",
   "metadata": {},
   "source": [
    "# 1차 전처리 (유효변수 뽑기)"
   ]
  },
  {
   "cell_type": "code",
   "execution_count": 13,
   "id": "06375a3d",
   "metadata": {},
   "outputs": [],
   "source": [
    "# 국가RD과제\n",
    "# 정책사업여부가 Y인것 모두 제거\n",
    "국가RD과제1 = 국가RD과제[국가RD과제.정책사업여부 != 'Y']\n",
    "# 필요한 컬럼만 뽑기\n",
    "국가RD과제1 = 국가RD과제1[['사업자등록번호', '프로젝트번호', '프로젝트국문명','연구내용',\n",
    "       '국문키워드','과제관리기관명', '주관기관명', '총연구기간연구시작일자', \n",
    "       '총연구기간연구종료일자', '과학기술표준대분류코드', '과학기술표준대분류명',\n",
    "       '과학기술표준중분류코드', '과학기술표준중분류명', '연구수행주체명', '기술수명주기명',\n",
    "       '적용분야분류코드1', '적용분야분류명1', '총연구비']]"
   ]
  },
  {
   "cell_type": "code",
   "execution_count": 14,
   "id": "6eb269e7",
   "metadata": {},
   "outputs": [],
   "source": [
    "# 국가RD성과\n",
    "# 필요한 컬럼만 뽑기\n",
    "국가RD성과1 = 국가RD성과[['사업자등록번호', '과제명', '과제코드', '성과ID','성과년도','예산사업명', \n",
    "        '연구수행기관코드', '연구수행주체명', '국가기술지도코드','과학기술표준대분류코드',\n",
    "        '과학기술표준대분류명', '과학기술표준중분류코드', '과학기술표준중분류명']]"
   ]
  },
  {
   "cell_type": "code",
   "execution_count": 15,
   "id": "9cfb92e9",
   "metadata": {},
   "outputs": [],
   "source": [
    "# 국가RD연구보고서\n",
    "# 필요한 컬럼만 뽑기\n",
    "국가RD연구보고서1 = 국가RD연구보고서[['사업자등록번호', '보고서한글명','국문키워드',\n",
    "        '원문정보URL', '과제수행기관명']]"
   ]
  },
  {
   "cell_type": "code",
   "execution_count": 16,
   "id": "942af99d",
   "metadata": {},
   "outputs": [],
   "source": [
    "merge_RD = pd.merge(left = 국가RD과제1 , right = 국가RD성과1, how = \"outer\", on = \"사업자등록번호\")\n",
    "merge_RD = pd.merge(left = merge_RD , right = 국가RD연구보고서1, how = \"outer\", on = \"사업자등록번호\")"
   ]
  },
  {
   "cell_type": "code",
   "execution_count": null,
   "id": "bbd22e83",
   "metadata": {},
   "outputs": [],
   "source": []
  },
  {
   "cell_type": "code",
   "execution_count": 17,
   "id": "da0dba83",
   "metadata": {},
   "outputs": [
    {
     "name": "stderr",
     "output_type": "stream",
     "text": [
      "C:\\Users\\DMC CONET\\AppData\\Local\\Temp\\ipykernel_15784\\4184532000.py:4: UserWarning: Boolean Series key will be reindexed to match DataFrame index.\n",
      "  기업정보상세1 = 기업정보상세1[기업정보상세.휴폐업구분 != '폐업']\n"
     ]
    }
   ],
   "source": [
    "# 기업정보상세\n",
    "# 휴폐업구분이 휴업/폐업 인것 모두 제거\n",
    "기업정보상세1 = 기업정보상세[기업정보상세.휴폐업구분 != '휴업']\n",
    "기업정보상세1 = 기업정보상세1[기업정보상세.휴폐업구분 != '폐업']"
   ]
  },
  {
   "cell_type": "code",
   "execution_count": 23,
   "id": "141a3dc2",
   "metadata": {},
   "outputs": [],
   "source": [
    "# 필요한 컬럼만 뽑기\n",
    "기업정보상세1 = 기업정보상세1[['사업자등록번호','기업명', '산업분류코드', '산업분류코드설명', \n",
    "            '기업규모', '기업형태', '업태명','CRI등급', 'CRI기준일']]"
   ]
  },
  {
   "cell_type": "code",
   "execution_count": 24,
   "id": "4d63ce87",
   "metadata": {},
   "outputs": [],
   "source": [
    "# 기업정보요약\n",
    "기업정보요약1 = 기업정보요약[['사업자등록번호','기업형태', '공기업구분']]"
   ]
  },
  {
   "cell_type": "code",
   "execution_count": 25,
   "id": "82473028",
   "metadata": {},
   "outputs": [],
   "source": [
    "merge_info = pd.merge(left = 기업정보상세1 , right = 기업정보요약1, how = \"outer\", on = \"사업자등록번호\")"
   ]
  },
  {
   "cell_type": "code",
   "execution_count": null,
   "id": "69ab77e5",
   "metadata": {},
   "outputs": [],
   "source": []
  },
  {
   "cell_type": "code",
   "execution_count": 46,
   "id": "2864d5ec",
   "metadata": {},
   "outputs": [
    {
     "data": {
      "text/plain": [
       "0        10-2022-0127679\n",
       "1        10-2022-7034781\n",
       "2        10-2022-0127684\n",
       "3        10-2022-0127681\n",
       "4        10-2022-0127675\n",
       "              ...       \n",
       "28564    10-2020-0088861\n",
       "28565    30-2020-0025650\n",
       "28566    30-2017-0029533\n",
       "28567                NaN\n",
       "28568                NaN\n",
       "Name: 출원번호, Length: 28569, dtype: object"
      ]
     },
     "execution_count": 46,
     "metadata": {},
     "output_type": "execute_result"
    }
   ],
   "source": [
    "# 특허정보상세\n",
    "특허정보상세1 = 특허정보상세[['사업자등록번호', '특허명칭','IPC코드내용', '출원인명','출원번호',\n",
    "                'NDSL상세보기URL']]\n",
    "특허정보상세1.출원번호"
   ]
  },
  {
   "cell_type": "code",
   "execution_count": 42,
   "id": "13064448",
   "metadata": {},
   "outputs": [
    {
     "data": {
      "text/plain": [
       "0        1.020180e+12\n",
       "1        1.020180e+12\n",
       "2        1.020180e+12\n",
       "3        1.020180e+12\n",
       "4        1.020180e+12\n",
       "             ...     \n",
       "30481    1.020180e+12\n",
       "30482    1.020200e+12\n",
       "30483    1.020200e+12\n",
       "30484             NaN\n",
       "30485             NaN\n",
       "Name: 출원번호, Length: 30486, dtype: float64"
      ]
     },
     "execution_count": 42,
     "metadata": {},
     "output_type": "execute_result"
    }
   ],
   "source": [
    "# 특허정보요약\n",
    "특허정보요약1 = 특허정보요약[['사업자등록번호', '출원번호', '특허명', '출원날짜', 'CPC번호', \n",
    "                '인용수', '피인용수', '발명자수', '청구항수']]\n",
    "특허정보요약1.출원번호"
   ]
  },
  {
   "cell_type": "code",
   "execution_count": 83,
   "id": "bdd6755f",
   "metadata": {},
   "outputs": [
    {
     "data": {
      "text/plain": [
       "0        1020180080791.0\n",
       "1        1020180080799.0\n",
       "2        1020180080796.0\n",
       "3        1020180081240.0\n",
       "4        1020180081123.0\n",
       "              ...       \n",
       "30481    1020180172007.0\n",
       "30482    1020200088861.0\n",
       "30483    1020200100382.0\n",
       "30484                NaN\n",
       "30485                NaN\n",
       "Name: 출원번호, Length: 30486, dtype: object"
      ]
     },
     "execution_count": 83,
     "metadata": {},
     "output_type": "execute_result"
    }
   ],
   "source": [
    "특허정보요약1 = 특허정보요약1.astype({'출원번호':'object'})\n",
    "특허정보요약1.출원번호"
   ]
  },
  {
   "cell_type": "code",
   "execution_count": 81,
   "id": "5e6f4f38",
   "metadata": {},
   "outputs": [],
   "source": [
    "특허정보요약1.replace('.0', '', regex=True, inplace=True)"
   ]
  },
  {
   "cell_type": "code",
   "execution_count": 89,
   "id": "280af915",
   "metadata": {},
   "outputs": [
    {
     "data": {
      "text/plain": [
       "0        1020180080791.0\n",
       "1        1020180080799.0\n",
       "2        1020180080796.0\n",
       "3        1020180081240.0\n",
       "4        1020180081123.0\n",
       "              ...       \n",
       "30481    1020180172007.0\n",
       "30482    1020200088861.0\n",
       "30483    1020200100382.0\n",
       "30484                NaN\n",
       "30485                NaN\n",
       "Name: 출원번호, Length: 30486, dtype: object"
      ]
     },
     "execution_count": 89,
     "metadata": {},
     "output_type": "execute_result"
    }
   ],
   "source": [
    "특허정보요약1.출원번호"
   ]
  },
  {
   "cell_type": "code",
   "execution_count": 52,
   "id": "9cba63dc",
   "metadata": {},
   "outputs": [
    {
     "name": "stderr",
     "output_type": "stream",
     "text": [
      "C:\\Users\\DMC CONET\\AppData\\Local\\Temp\\ipykernel_15784\\407284658.py:2: SettingWithCopyWarning: \n",
      "A value is trying to be set on a copy of a slice from a DataFrame\n",
      "\n",
      "See the caveats in the documentation: https://pandas.pydata.org/pandas-docs/stable/user_guide/indexing.html#returning-a-view-versus-a-copy\n",
      "  df.replace('-', '', regex=True, inplace=True)\n",
      "C:\\Users\\DMC CONET\\AppData\\Local\\Temp\\ipykernel_15784\\407284658.py:3: SettingWithCopyWarning: \n",
      "A value is trying to be set on a copy of a slice from a DataFrame.\n",
      "Try using .loc[row_indexer,col_indexer] = value instead\n",
      "\n",
      "See the caveats in the documentation: https://pandas.pydata.org/pandas-docs/stable/user_guide/indexing.html#returning-a-view-versus-a-copy\n",
      "  특허정보상세1.출원번호 = df\n"
     ]
    },
    {
     "data": {
      "text/plain": [
       "0        1020220127679\n",
       "1        1020227034781\n",
       "2        1020220127684\n",
       "3        1020220127681\n",
       "4        1020220127675\n",
       "             ...      \n",
       "28564    1020200088861\n",
       "28565    3020200025650\n",
       "28566    3020170029533\n",
       "28567              NaN\n",
       "28568              NaN\n",
       "Name: 출원번호, Length: 28569, dtype: object"
      ]
     },
     "execution_count": 52,
     "metadata": {},
     "output_type": "execute_result"
    }
   ],
   "source": [
    "df = 특허정보상세1.출원번호\n",
    "df.replace('-', '', regex=True, inplace=True)\n",
    "특허정보상세1.출원번호 = df\n",
    "특허정보상세1.출원번호"
   ]
  },
  {
   "cell_type": "code",
   "execution_count": 87,
   "id": "934dfc98",
   "metadata": {},
   "outputs": [
    {
     "data": {
      "text/plain": [
       "0        1020180080791.0\n",
       "1        1020180080799.0\n",
       "2        1020180080796.0\n",
       "3        1020180081240.0\n",
       "4        1020180081123.0\n",
       "              ...       \n",
       "30481    1020180172007.0\n",
       "30482    1020200088861.0\n",
       "30483    1020200100382.0\n",
       "30484                NaN\n",
       "30485                NaN\n",
       "Name: 출원번호, Length: 30486, dtype: object"
      ]
     },
     "execution_count": 87,
     "metadata": {},
     "output_type": "execute_result"
    }
   ],
   "source": [
    "특허정보상세1 = 특허정보요약1.astype({'출원번호':'object'})\n",
    "특허정보상세1.출원번호"
   ]
  },
  {
   "cell_type": "code",
   "execution_count": 88,
   "id": "7729f2e5",
   "metadata": {},
   "outputs": [
    {
     "name": "stdout",
     "output_type": "stream",
     "text": [
      "<class 'pandas.core.frame.DataFrame'>\n",
      "RangeIndex: 30486 entries, 0 to 30485\n",
      "Data columns (total 9 columns):\n",
      " #   Column   Non-Null Count  Dtype  \n",
      "---  ------   --------------  -----  \n",
      " 0   사업자등록번호  30486 non-null  int64  \n",
      " 1   출원번호     25327 non-null  object \n",
      " 2   특허명      25327 non-null  object \n",
      " 3   출원날짜     25327 non-null  float64\n",
      " 4   CPC번호    24043 non-null  object \n",
      " 5   인용수      8497 non-null   float64\n",
      " 6   피인용수     4098 non-null   float64\n",
      " 7   발명자수     25327 non-null  float64\n",
      " 8   청구항수     25219 non-null  float64\n",
      "dtypes: float64(5), int64(1), object(3)\n",
      "memory usage: 2.1+ MB\n",
      "<class 'pandas.core.frame.DataFrame'>\n",
      "RangeIndex: 30486 entries, 0 to 30485\n",
      "Data columns (total 9 columns):\n",
      " #   Column   Non-Null Count  Dtype  \n",
      "---  ------   --------------  -----  \n",
      " 0   사업자등록번호  30486 non-null  int64  \n",
      " 1   출원번호     25327 non-null  object \n",
      " 2   특허명      25327 non-null  object \n",
      " 3   출원날짜     25327 non-null  float64\n",
      " 4   CPC번호    24043 non-null  object \n",
      " 5   인용수      8497 non-null   float64\n",
      " 6   피인용수     4098 non-null   float64\n",
      " 7   발명자수     25327 non-null  float64\n",
      " 8   청구항수     25219 non-null  float64\n",
      "dtypes: float64(5), int64(1), object(3)\n",
      "memory usage: 2.1+ MB\n"
     ]
    }
   ],
   "source": [
    "특허정보상세1.info()\n",
    "특허정보요약1.info()"
   ]
  },
  {
   "cell_type": "code",
   "execution_count": 20,
   "id": "ce806f17",
   "metadata": {},
   "outputs": [],
   "source": [
    "# # 패밀리특허정보\n",
    "# 패밀리특허정보1 = 패밀리특허정보[['사업자등록번호', '국내출원번호', 'DOCDB패밀리ID', \n",
    "#         'DOCDB출원국가코드', 'DOCDB출원일자', 'DOCDB출원종류코드', 'DOCDB출원번호', \n",
    "#         'DOCDB공보국가코드', 'DOCDB공보일자', 'DOCDB공보종류코드', 'DOCDB공보번호']]"
   ]
  },
  {
   "cell_type": "code",
   "execution_count": 105,
   "id": "0f0a6f65",
   "metadata": {},
   "outputs": [],
   "source": [
    "# merge\n",
    "merge_patent = pd.merge(left = 특허정보상세1 , right = 특허정보요약1, how = \"outer\", on=['사업자등록번호','출원번호'])\n",
    "# merge_patent = pd.merge(left = merge , right = 패밀리특허정보1, how = \"outer\", on = \"사업자등록번호\")"
   ]
  },
  {
   "cell_type": "code",
   "execution_count": 106,
   "id": "46f73d1c",
   "metadata": {},
   "outputs": [
    {
     "data": {
      "text/html": [
       "<div>\n",
       "<style scoped>\n",
       "    .dataframe tbody tr th:only-of-type {\n",
       "        vertical-align: middle;\n",
       "    }\n",
       "\n",
       "    .dataframe tbody tr th {\n",
       "        vertical-align: top;\n",
       "    }\n",
       "\n",
       "    .dataframe thead th {\n",
       "        text-align: right;\n",
       "    }\n",
       "</style>\n",
       "<table border=\"1\" class=\"dataframe\">\n",
       "  <thead>\n",
       "    <tr style=\"text-align: right;\">\n",
       "      <th></th>\n",
       "      <th>사업자등록번호</th>\n",
       "      <th>출원번호</th>\n",
       "      <th>특허명_x</th>\n",
       "      <th>출원날짜_x</th>\n",
       "      <th>CPC번호_x</th>\n",
       "      <th>인용수_x</th>\n",
       "      <th>피인용수_x</th>\n",
       "      <th>발명자수_x</th>\n",
       "      <th>청구항수_x</th>\n",
       "      <th>특허명_y</th>\n",
       "      <th>출원날짜_y</th>\n",
       "      <th>CPC번호_y</th>\n",
       "      <th>인용수_y</th>\n",
       "      <th>피인용수_y</th>\n",
       "      <th>발명자수_y</th>\n",
       "      <th>청구항수_y</th>\n",
       "    </tr>\n",
       "  </thead>\n",
       "  <tbody>\n",
       "    <tr>\n",
       "      <th>0</th>\n",
       "      <td>1240400001</td>\n",
       "      <td>1020180080791.0</td>\n",
       "      <td>단말장치 및 그 장치의 동작 방법</td>\n",
       "      <td>20180711.0</td>\n",
       "      <td>4M1/724</td>\n",
       "      <td>NaN</td>\n",
       "      <td>NaN</td>\n",
       "      <td>2.0</td>\n",
       "      <td>10.0</td>\n",
       "      <td>단말장치 및 그 장치의 동작 방법</td>\n",
       "      <td>20180711.0</td>\n",
       "      <td>4M1/724</td>\n",
       "      <td>NaN</td>\n",
       "      <td>NaN</td>\n",
       "      <td>2.0</td>\n",
       "      <td>10.0</td>\n",
       "    </tr>\n",
       "    <tr>\n",
       "      <th>1</th>\n",
       "      <td>1240400001</td>\n",
       "      <td>1020180080799.0</td>\n",
       "      <td>데이터 전송경로 스위칭 방법</td>\n",
       "      <td>20180711.0</td>\n",
       "      <td>4W/12</td>\n",
       "      <td>1.0</td>\n",
       "      <td>NaN</td>\n",
       "      <td>1.0</td>\n",
       "      <td>3.0</td>\n",
       "      <td>데이터 전송경로 스위칭 방법</td>\n",
       "      <td>20180711.0</td>\n",
       "      <td>4W/12</td>\n",
       "      <td>1.0</td>\n",
       "      <td>NaN</td>\n",
       "      <td>1.0</td>\n",
       "      <td>3.0</td>\n",
       "    </tr>\n",
       "    <tr>\n",
       "      <th>2</th>\n",
       "      <td>1240400001</td>\n",
       "      <td>1020180080796.0</td>\n",
       "      <td>기지국장치 및 그 장치의 동작 방법</td>\n",
       "      <td>20180711.0</td>\n",
       "      <td>4W52212</td>\n",
       "      <td>NaN</td>\n",
       "      <td>NaN</td>\n",
       "      <td>2.0</td>\n",
       "      <td>10.0</td>\n",
       "      <td>기지국장치 및 그 장치의 동작 방법</td>\n",
       "      <td>20180711.0</td>\n",
       "      <td>4W52212</td>\n",
       "      <td>NaN</td>\n",
       "      <td>NaN</td>\n",
       "      <td>2.0</td>\n",
       "      <td>10.0</td>\n",
       "    </tr>\n",
       "    <tr>\n",
       "      <th>3</th>\n",
       "      <td>1240400001</td>\n",
       "      <td>1020180081240.0</td>\n",
       "      <td>영상 투사 장치</td>\n",
       "      <td>20180712.0</td>\n",
       "      <td>3B21/28</td>\n",
       "      <td>1.0</td>\n",
       "      <td>NaN</td>\n",
       "      <td>5.0</td>\n",
       "      <td>5.0</td>\n",
       "      <td>영상 투사 장치</td>\n",
       "      <td>20180712.0</td>\n",
       "      <td>3B21/28</td>\n",
       "      <td>1.0</td>\n",
       "      <td>NaN</td>\n",
       "      <td>5.0</td>\n",
       "      <td>5.0</td>\n",
       "    </tr>\n",
       "    <tr>\n",
       "      <th>4</th>\n",
       "      <td>1240400001</td>\n",
       "      <td>1020180081123.0</td>\n",
       "      <td>Cnn 기반의 영상 부호화 또는 복호화 장치 및 방법</td>\n",
       "      <td>20180712.0</td>\n",
       "      <td>4N19/5</td>\n",
       "      <td>NaN</td>\n",
       "      <td>NaN</td>\n",
       "      <td>5.0</td>\n",
       "      <td>18.0</td>\n",
       "      <td>Cnn 기반의 영상 부호화 또는 복호화 장치 및 방법</td>\n",
       "      <td>20180712.0</td>\n",
       "      <td>4N19/5</td>\n",
       "      <td>NaN</td>\n",
       "      <td>NaN</td>\n",
       "      <td>5.0</td>\n",
       "      <td>18.0</td>\n",
       "    </tr>\n",
       "    <tr>\n",
       "      <th>...</th>\n",
       "      <td>...</td>\n",
       "      <td>...</td>\n",
       "      <td>...</td>\n",
       "      <td>...</td>\n",
       "      <td>...</td>\n",
       "      <td>...</td>\n",
       "      <td>...</td>\n",
       "      <td>...</td>\n",
       "      <td>...</td>\n",
       "      <td>...</td>\n",
       "      <td>...</td>\n",
       "      <td>...</td>\n",
       "      <td>...</td>\n",
       "      <td>...</td>\n",
       "      <td>...</td>\n",
       "      <td>...</td>\n",
       "    </tr>\n",
       "    <tr>\n",
       "      <th>30565</th>\n",
       "      <td>5088109998</td>\n",
       "      <td>1020180172007.0</td>\n",
       "      <td>설치 시공성이 향상된 신축이음장치 및 그 시공방법</td>\n",
       "      <td>20181228.0</td>\n",
       "      <td>1D196</td>\n",
       "      <td>NaN</td>\n",
       "      <td>NaN</td>\n",
       "      <td>4.0</td>\n",
       "      <td>11.0</td>\n",
       "      <td>설치 시공성이 향상된 신축이음장치 및 그 시공방법</td>\n",
       "      <td>20181228.0</td>\n",
       "      <td>1D196</td>\n",
       "      <td>NaN</td>\n",
       "      <td>NaN</td>\n",
       "      <td>4.0</td>\n",
       "      <td>11.0</td>\n",
       "    </tr>\n",
       "    <tr>\n",
       "      <th>30566</th>\n",
       "      <td>5088109998</td>\n",
       "      <td>1020200088861.0</td>\n",
       "      <td>미세균열 방지 그루빙 시공방법 및 미세균열 방지 그루빙 장치</td>\n",
       "      <td>20200717.0</td>\n",
       "      <td>1C2388</td>\n",
       "      <td>NaN</td>\n",
       "      <td>NaN</td>\n",
       "      <td>2.0</td>\n",
       "      <td>6.0</td>\n",
       "      <td>미세균열 방지 그루빙 시공방법 및 미세균열 방지 그루빙 장치</td>\n",
       "      <td>20200717.0</td>\n",
       "      <td>1C2388</td>\n",
       "      <td>NaN</td>\n",
       "      <td>NaN</td>\n",
       "      <td>2.0</td>\n",
       "      <td>6.0</td>\n",
       "    </tr>\n",
       "    <tr>\n",
       "      <th>30567</th>\n",
       "      <td>5088109998</td>\n",
       "      <td>1020200100382.0</td>\n",
       "      <td>방음터널의 패널결합장치</td>\n",
       "      <td>20200811.0</td>\n",
       "      <td>1F23</td>\n",
       "      <td>3.0</td>\n",
       "      <td>NaN</td>\n",
       "      <td>1.0</td>\n",
       "      <td>4.0</td>\n",
       "      <td>방음터널의 패널결합장치</td>\n",
       "      <td>20200811.0</td>\n",
       "      <td>1F23</td>\n",
       "      <td>3.0</td>\n",
       "      <td>NaN</td>\n",
       "      <td>1.0</td>\n",
       "      <td>4.0</td>\n",
       "    </tr>\n",
       "    <tr>\n",
       "      <th>30568</th>\n",
       "      <td>5088109999</td>\n",
       "      <td>NaN</td>\n",
       "      <td>NaN</td>\n",
       "      <td>NaN</td>\n",
       "      <td>NaN</td>\n",
       "      <td>NaN</td>\n",
       "      <td>NaN</td>\n",
       "      <td>NaN</td>\n",
       "      <td>NaN</td>\n",
       "      <td>NaN</td>\n",
       "      <td>NaN</td>\n",
       "      <td>NaN</td>\n",
       "      <td>NaN</td>\n",
       "      <td>NaN</td>\n",
       "      <td>NaN</td>\n",
       "      <td>NaN</td>\n",
       "    </tr>\n",
       "    <tr>\n",
       "      <th>30569</th>\n",
       "      <td>6168110000</td>\n",
       "      <td>NaN</td>\n",
       "      <td>NaN</td>\n",
       "      <td>NaN</td>\n",
       "      <td>NaN</td>\n",
       "      <td>NaN</td>\n",
       "      <td>NaN</td>\n",
       "      <td>NaN</td>\n",
       "      <td>NaN</td>\n",
       "      <td>NaN</td>\n",
       "      <td>NaN</td>\n",
       "      <td>NaN</td>\n",
       "      <td>NaN</td>\n",
       "      <td>NaN</td>\n",
       "      <td>NaN</td>\n",
       "      <td>NaN</td>\n",
       "    </tr>\n",
       "  </tbody>\n",
       "</table>\n",
       "<p>30570 rows × 16 columns</p>\n",
       "</div>"
      ],
      "text/plain": [
       "          사업자등록번호             출원번호                              특허명_x  \\\n",
       "0      1240400001  1020180080791.0                 단말장치 및 그 장치의 동작 방법   \n",
       "1      1240400001  1020180080799.0                    데이터 전송경로 스위칭 방법   \n",
       "2      1240400001  1020180080796.0                기지국장치 및 그 장치의 동작 방법   \n",
       "3      1240400001  1020180081240.0                           영상 투사 장치   \n",
       "4      1240400001  1020180081123.0      Cnn 기반의 영상 부호화 또는 복호화 장치 및 방법   \n",
       "...           ...              ...                                ...   \n",
       "30565  5088109998  1020180172007.0        설치 시공성이 향상된 신축이음장치 및 그 시공방법   \n",
       "30566  5088109998  1020200088861.0  미세균열 방지 그루빙 시공방법 및 미세균열 방지 그루빙 장치   \n",
       "30567  5088109998  1020200100382.0                       방음터널의 패널결합장치   \n",
       "30568  5088109999              NaN                                NaN   \n",
       "30569  6168110000              NaN                                NaN   \n",
       "\n",
       "           출원날짜_x  CPC번호_x  인용수_x  피인용수_x  발명자수_x  청구항수_x  \\\n",
       "0      20180711.0  4M1/724    NaN     NaN     2.0    10.0   \n",
       "1      20180711.0    4W/12    1.0     NaN     1.0     3.0   \n",
       "2      20180711.0  4W52212    NaN     NaN     2.0    10.0   \n",
       "3      20180712.0  3B21/28    1.0     NaN     5.0     5.0   \n",
       "4      20180712.0   4N19/5    NaN     NaN     5.0    18.0   \n",
       "...           ...      ...    ...     ...     ...     ...   \n",
       "30565  20181228.0    1D196    NaN     NaN     4.0    11.0   \n",
       "30566  20200717.0   1C2388    NaN     NaN     2.0     6.0   \n",
       "30567  20200811.0     1F23    3.0     NaN     1.0     4.0   \n",
       "30568         NaN      NaN    NaN     NaN     NaN     NaN   \n",
       "30569         NaN      NaN    NaN     NaN     NaN     NaN   \n",
       "\n",
       "                                   특허명_y      출원날짜_y  CPC번호_y  인용수_y  피인용수_y  \\\n",
       "0                     단말장치 및 그 장치의 동작 방법  20180711.0  4M1/724    NaN     NaN   \n",
       "1                        데이터 전송경로 스위칭 방법  20180711.0    4W/12    1.0     NaN   \n",
       "2                    기지국장치 및 그 장치의 동작 방법  20180711.0  4W52212    NaN     NaN   \n",
       "3                               영상 투사 장치  20180712.0  3B21/28    1.0     NaN   \n",
       "4          Cnn 기반의 영상 부호화 또는 복호화 장치 및 방법  20180712.0   4N19/5    NaN     NaN   \n",
       "...                                  ...         ...      ...    ...     ...   \n",
       "30565        설치 시공성이 향상된 신축이음장치 및 그 시공방법  20181228.0    1D196    NaN     NaN   \n",
       "30566  미세균열 방지 그루빙 시공방법 및 미세균열 방지 그루빙 장치  20200717.0   1C2388    NaN     NaN   \n",
       "30567                       방음터널의 패널결합장치  20200811.0     1F23    3.0     NaN   \n",
       "30568                                NaN         NaN      NaN    NaN     NaN   \n",
       "30569                                NaN         NaN      NaN    NaN     NaN   \n",
       "\n",
       "       발명자수_y  청구항수_y  \n",
       "0         2.0    10.0  \n",
       "1         1.0     3.0  \n",
       "2         2.0    10.0  \n",
       "3         5.0     5.0  \n",
       "4         5.0    18.0  \n",
       "...       ...     ...  \n",
       "30565     4.0    11.0  \n",
       "30566     2.0     6.0  \n",
       "30567     1.0     4.0  \n",
       "30568     NaN     NaN  \n",
       "30569     NaN     NaN  \n",
       "\n",
       "[30570 rows x 16 columns]"
      ]
     },
     "execution_count": 106,
     "metadata": {},
     "output_type": "execute_result"
    }
   ],
   "source": [
    "merge_patent"
   ]
  },
  {
   "cell_type": "code",
   "execution_count": 111,
   "id": "609498bf",
   "metadata": {},
   "outputs": [
    {
     "data": {
      "text/plain": [
       "사업자등록번호    0\n",
       "출원번호       0\n",
       "특허명_x      0\n",
       "출원날짜_x     0\n",
       "CPC번호_x    0\n",
       "인용수_x      0\n",
       "피인용수_x     0\n",
       "발명자수_x     0\n",
       "청구항수_x     0\n",
       "특허명_y      0\n",
       "출원날짜_y     0\n",
       "CPC번호_y    0\n",
       "인용수_y      0\n",
       "피인용수_y     0\n",
       "발명자수_y     0\n",
       "청구항수_y     0\n",
       "dtype: int64"
      ]
     },
     "execution_count": 111,
     "metadata": {},
     "output_type": "execute_result"
    }
   ],
   "source": [
    "merge_patent=merge_patent.dropna()\n",
    "merge_patent.isna().sum()"
   ]
  },
  {
   "cell_type": "code",
   "execution_count": 113,
   "id": "34930f99",
   "metadata": {},
   "outputs": [],
   "source": [
    "# csv로 저장\n",
    "# merge_RD.to_csv('merge_RD.csv',encoding='utf-8-sig',index=False)\n",
    "# merge_info.to_csv('merge_info.csv',encoding='utf-8-sig',index=False)\n",
    "merge_patent.to_csv('merge_patent.csv',encoding='utf-8-sig',index=False)\n"
   ]
  },
  {
   "cell_type": "markdown",
   "id": "3c97a918",
   "metadata": {},
   "source": [
    "# code"
   ]
  },
  {
   "cell_type": "code",
   "execution_count": 27,
   "id": "42b395df",
   "metadata": {},
   "outputs": [],
   "source": [
    "import pandas as pd\n",
    "code = pd.read_excel('./한국표준산업분류(10차)_표.xlsx')\n",
    "code = code.fillna(method = 'ffill')"
   ]
  },
  {
   "cell_type": "code",
   "execution_count": 28,
   "id": "857feedb",
   "metadata": {},
   "outputs": [],
   "source": [
    "code.columns = [\"대분류코드\", \"대분류항목\", \"중분류코드\",\"중분류항목\", \"소분류코드\",\"소분류항목\", \"세분류코드\",\"세분류항목\", \"세세분류코드\", \"세세분류항목\"]"
   ]
  },
  {
   "cell_type": "code",
   "execution_count": 29,
   "id": "85718139",
   "metadata": {},
   "outputs": [
    {
     "data": {
      "text/html": [
       "<div>\n",
       "<style scoped>\n",
       "    .dataframe tbody tr th:only-of-type {\n",
       "        vertical-align: middle;\n",
       "    }\n",
       "\n",
       "    .dataframe tbody tr th {\n",
       "        vertical-align: top;\n",
       "    }\n",
       "\n",
       "    .dataframe thead th {\n",
       "        text-align: right;\n",
       "    }\n",
       "</style>\n",
       "<table border=\"1\" class=\"dataframe\">\n",
       "  <thead>\n",
       "    <tr style=\"text-align: right;\">\n",
       "      <th></th>\n",
       "      <th>대분류코드</th>\n",
       "      <th>대분류항목</th>\n",
       "      <th>중분류코드</th>\n",
       "      <th>중분류항목</th>\n",
       "      <th>소분류코드</th>\n",
       "      <th>소분류항목</th>\n",
       "      <th>세분류코드</th>\n",
       "      <th>세분류항목</th>\n",
       "      <th>세세분류코드</th>\n",
       "      <th>세세분류항목</th>\n",
       "    </tr>\n",
       "  </thead>\n",
       "  <tbody>\n",
       "    <tr>\n",
       "      <th>0</th>\n",
       "      <td>A</td>\n",
       "      <td>농업, 임업 및 어업(01~03)</td>\n",
       "      <td>1.0</td>\n",
       "      <td>농업</td>\n",
       "      <td>11.0</td>\n",
       "      <td>작물 재배업</td>\n",
       "      <td>111.0</td>\n",
       "      <td>곡물 및 기타 식량작물 재배업</td>\n",
       "      <td>1110.0</td>\n",
       "      <td>곡물 및 기타 식량작물 재배업</td>\n",
       "    </tr>\n",
       "    <tr>\n",
       "      <th>1</th>\n",
       "      <td>A</td>\n",
       "      <td>농업, 임업 및 어업(01~03)</td>\n",
       "      <td>1.0</td>\n",
       "      <td>농업</td>\n",
       "      <td>11.0</td>\n",
       "      <td>작물 재배업</td>\n",
       "      <td>112.0</td>\n",
       "      <td>채소, 화훼작물 및 종묘 재배업</td>\n",
       "      <td>1121.0</td>\n",
       "      <td>채소작물 재배업</td>\n",
       "    </tr>\n",
       "    <tr>\n",
       "      <th>2</th>\n",
       "      <td>A</td>\n",
       "      <td>농업, 임업 및 어업(01~03)</td>\n",
       "      <td>1.0</td>\n",
       "      <td>농업</td>\n",
       "      <td>11.0</td>\n",
       "      <td>작물 재배업</td>\n",
       "      <td>112.0</td>\n",
       "      <td>채소, 화훼작물 및 종묘 재배업</td>\n",
       "      <td>1122.0</td>\n",
       "      <td>화훼작물 재배업</td>\n",
       "    </tr>\n",
       "    <tr>\n",
       "      <th>3</th>\n",
       "      <td>A</td>\n",
       "      <td>농업, 임업 및 어업(01~03)</td>\n",
       "      <td>1.0</td>\n",
       "      <td>농업</td>\n",
       "      <td>11.0</td>\n",
       "      <td>작물 재배업</td>\n",
       "      <td>112.0</td>\n",
       "      <td>채소, 화훼작물 및 종묘 재배업</td>\n",
       "      <td>1123.0</td>\n",
       "      <td>종자 및 묘목 생산업</td>\n",
       "    </tr>\n",
       "    <tr>\n",
       "      <th>4</th>\n",
       "      <td>A</td>\n",
       "      <td>농업, 임업 및 어업(01~03)</td>\n",
       "      <td>1.0</td>\n",
       "      <td>농업</td>\n",
       "      <td>11.0</td>\n",
       "      <td>작물 재배업</td>\n",
       "      <td>113.0</td>\n",
       "      <td>과실, 음료용 및 향신용 작물 재배업</td>\n",
       "      <td>1131.0</td>\n",
       "      <td>과실작물 재배업</td>\n",
       "    </tr>\n",
       "    <tr>\n",
       "      <th>...</th>\n",
       "      <td>...</td>\n",
       "      <td>...</td>\n",
       "      <td>...</td>\n",
       "      <td>...</td>\n",
       "      <td>...</td>\n",
       "      <td>...</td>\n",
       "      <td>...</td>\n",
       "      <td>...</td>\n",
       "      <td>...</td>\n",
       "      <td>...</td>\n",
       "    </tr>\n",
       "    <tr>\n",
       "      <th>1192</th>\n",
       "      <td>T</td>\n",
       "      <td>가구 내 고용활동 및 달리 분류되지 않은 자가 소비 생산활동(97~98)</td>\n",
       "      <td>97.0</td>\n",
       "      <td>가구 내 고용활동</td>\n",
       "      <td>970.0</td>\n",
       "      <td>가구 내 고용활동</td>\n",
       "      <td>9700.0</td>\n",
       "      <td>가구 내 고용활동</td>\n",
       "      <td>97000.0</td>\n",
       "      <td>가구 내 고용활동</td>\n",
       "    </tr>\n",
       "    <tr>\n",
       "      <th>1193</th>\n",
       "      <td>T</td>\n",
       "      <td>가구 내 고용활동 및 달리 분류되지 않은 자가 소비 생산활동(97~98)</td>\n",
       "      <td>98.0</td>\n",
       "      <td>달리 분류되지 않은 자가 소비를 위한 가구의 재화 및 서비스 생산활동</td>\n",
       "      <td>981.0</td>\n",
       "      <td>자가 소비를 위한 가사 생산 활동</td>\n",
       "      <td>9810.0</td>\n",
       "      <td>자가 소비를 위한 가사 생산 활동</td>\n",
       "      <td>98100.0</td>\n",
       "      <td>자가 소비를 위한 가사 생산 활동</td>\n",
       "    </tr>\n",
       "    <tr>\n",
       "      <th>1194</th>\n",
       "      <td>T</td>\n",
       "      <td>가구 내 고용활동 및 달리 분류되지 않은 자가 소비 생산활동(97~98)</td>\n",
       "      <td>98.0</td>\n",
       "      <td>달리 분류되지 않은 자가 소비를 위한 가구의 재화 및 서비스 생산활동</td>\n",
       "      <td>982.0</td>\n",
       "      <td>자가 소비를 위한 가사 서비스 활동</td>\n",
       "      <td>9820.0</td>\n",
       "      <td>자가 소비를 위한 가사 서비스 활동</td>\n",
       "      <td>98200.0</td>\n",
       "      <td>자가 소비를 위한 가사 서비스 활동</td>\n",
       "    </tr>\n",
       "    <tr>\n",
       "      <th>1195</th>\n",
       "      <td>U</td>\n",
       "      <td>국제 및 외국기관(99)</td>\n",
       "      <td>99.0</td>\n",
       "      <td>국제 및 외국기관</td>\n",
       "      <td>990.0</td>\n",
       "      <td>국제 및 외국기관</td>\n",
       "      <td>9900.0</td>\n",
       "      <td>국제 및 외국기관</td>\n",
       "      <td>99001.0</td>\n",
       "      <td>주한 외국 공관</td>\n",
       "    </tr>\n",
       "    <tr>\n",
       "      <th>1196</th>\n",
       "      <td>U</td>\n",
       "      <td>국제 및 외국기관(100)</td>\n",
       "      <td>99.0</td>\n",
       "      <td>국제 및 외국기관</td>\n",
       "      <td>990.0</td>\n",
       "      <td>국제 및 외국기관</td>\n",
       "      <td>9900.0</td>\n",
       "      <td>국제 및 외국기관</td>\n",
       "      <td>99009.0</td>\n",
       "      <td>기타 국제 및 외국기관</td>\n",
       "    </tr>\n",
       "  </tbody>\n",
       "</table>\n",
       "<p>1197 rows × 10 columns</p>\n",
       "</div>"
      ],
      "text/plain": [
       "     대분류코드                                     대분류항목  중분류코드  \\\n",
       "0        A                        농업, 임업 및 어업(01~03)    1.0   \n",
       "1        A                        농업, 임업 및 어업(01~03)    1.0   \n",
       "2        A                        농업, 임업 및 어업(01~03)    1.0   \n",
       "3        A                        농업, 임업 및 어업(01~03)    1.0   \n",
       "4        A                        농업, 임업 및 어업(01~03)    1.0   \n",
       "...    ...                                       ...    ...   \n",
       "1192     T  가구 내 고용활동 및 달리 분류되지 않은 자가 소비 생산활동(97~98)   97.0   \n",
       "1193     T  가구 내 고용활동 및 달리 분류되지 않은 자가 소비 생산활동(97~98)   98.0   \n",
       "1194     T  가구 내 고용활동 및 달리 분류되지 않은 자가 소비 생산활동(97~98)   98.0   \n",
       "1195     U                             국제 및 외국기관(99)   99.0   \n",
       "1196     U                            국제 및 외국기관(100)   99.0   \n",
       "\n",
       "                                       중분류항목  소분류코드                소분류항목  \\\n",
       "0                                         농업   11.0               작물 재배업   \n",
       "1                                         농업   11.0               작물 재배업   \n",
       "2                                         농업   11.0               작물 재배업   \n",
       "3                                         농업   11.0               작물 재배업   \n",
       "4                                         농업   11.0               작물 재배업   \n",
       "...                                      ...    ...                  ...   \n",
       "1192                               가구 내 고용활동  970.0            가구 내 고용활동   \n",
       "1193  달리 분류되지 않은 자가 소비를 위한 가구의 재화 및 서비스 생산활동  981.0   자가 소비를 위한 가사 생산 활동   \n",
       "1194  달리 분류되지 않은 자가 소비를 위한 가구의 재화 및 서비스 생산활동  982.0  자가 소비를 위한 가사 서비스 활동   \n",
       "1195                               국제 및 외국기관  990.0            국제 및 외국기관   \n",
       "1196                               국제 및 외국기관  990.0            국제 및 외국기관   \n",
       "\n",
       "       세분류코드                 세분류항목   세세분류코드               세세분류항목  \n",
       "0      111.0      곡물 및 기타 식량작물 재배업   1110.0     곡물 및 기타 식량작물 재배업  \n",
       "1      112.0     채소, 화훼작물 및 종묘 재배업   1121.0             채소작물 재배업  \n",
       "2      112.0     채소, 화훼작물 및 종묘 재배업   1122.0             화훼작물 재배업  \n",
       "3      112.0     채소, 화훼작물 및 종묘 재배업   1123.0          종자 및 묘목 생산업  \n",
       "4      113.0  과실, 음료용 및 향신용 작물 재배업   1131.0             과실작물 재배업  \n",
       "...      ...                   ...      ...                  ...  \n",
       "1192  9700.0             가구 내 고용활동  97000.0            가구 내 고용활동  \n",
       "1193  9810.0    자가 소비를 위한 가사 생산 활동  98100.0   자가 소비를 위한 가사 생산 활동  \n",
       "1194  9820.0   자가 소비를 위한 가사 서비스 활동  98200.0  자가 소비를 위한 가사 서비스 활동  \n",
       "1195  9900.0             국제 및 외국기관  99001.0             주한 외국 공관  \n",
       "1196  9900.0             국제 및 외국기관  99009.0         기타 국제 및 외국기관  \n",
       "\n",
       "[1197 rows x 10 columns]"
      ]
     },
     "execution_count": 29,
     "metadata": {},
     "output_type": "execute_result"
    }
   ],
   "source": [
    "code"
   ]
  },
  {
   "cell_type": "code",
   "execution_count": 30,
   "id": "f7523d96",
   "metadata": {},
   "outputs": [],
   "source": [
    "code.to_csv('code.csv',encoding='utf-8-sig', index=False)"
   ]
  }
 ],
 "metadata": {
  "kernelspec": {
   "display_name": "Python 3.10.7 64-bit",
   "language": "python",
   "name": "python3"
  },
  "language_info": {
   "codemirror_mode": {
    "name": "ipython",
    "version": 3
   },
   "file_extension": ".py",
   "mimetype": "text/x-python",
   "name": "python",
   "nbconvert_exporter": "python",
   "pygments_lexer": "ipython3",
   "version": "3.10.7"
  },
  "vscode": {
   "interpreter": {
    "hash": "8592c5686a4ee86636763dfbb580e0886326a68bd7d99adc81692a28e917b78f"
   }
  }
 },
 "nbformat": 4,
 "nbformat_minor": 5
}

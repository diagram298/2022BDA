{
 "cells": [
  {
   "cell_type": "code",
   "execution_count": 1,
   "id": "fd05c4f9",
   "metadata": {},
   "outputs": [],
   "source": [
    "import selenium\n",
    "from selenium import webdriver\n",
    "from selenium.webdriver import ActionChains\n",
    "\n",
    "from selenium.webdriver.common.keys import Keys\n",
    "from selenium.webdriver.common.by import By\n",
    "\n",
    "from selenium.webdriver.support import expected_conditions as EC\n",
    "from selenium.webdriver.support.ui import Select\n",
    "from selenium.webdriver.support.ui import WebDriverWait\n",
    "import pandas as pd"
   ]
  },
  {
   "cell_type": "markdown",
   "id": "7471b96e",
   "metadata": {},
   "source": [
    "# kipris 크롤링"
   ]
  },
  {
   "cell_type": "code",
   "execution_count": 6,
   "id": "f6e2bd53",
   "metadata": {},
   "outputs": [],
   "source": [
    "A = pd.read_csv('./A.csv')\n",
    "A = A.rename(columns={'과제수행기관명':'출원인명'})\n",
    "\n",
    "A1 = A[A['출원인명'].isnull()]\n",
    "B = A1.특허명.tolist()"
   ]
  },
  {
   "cell_type": "code",
   "execution_count": 13,
   "id": "31c38d48",
   "metadata": {
    "collapsed": true
   },
   "outputs": [
    {
     "name": "stdout",
     "output_type": "stream",
     "text": [
      "\t\t\tIPC : H04L 9/32 H04L 9/08  .... \t\t\t출원인 : (주)에이아이딥\t\t\t출원번호 : 1020180039606\t\t\t출원일자 : 2018.04.05\t\t등록번호 : 1021017180000\t\t\t등록일자 : 2020.04.10\t\t\t공개번호 : 1020190116672\t\t\t공개일자 : 2019.10.15\t\t\t대리인 : 특허법인현\t\t\t발명자 : 송상헌 김유섭\t\t\n",
      "\t\t\t        \t\t\t\t본 발명은 보호 가이드 및 보호 가이드를 포함하는 화장품 보관용 팔레트로서, 보다 상세하게는 화장품 보관용 팔레트에 수용된 화장품의 손상을 방지할 수 있는 보호 가이드 및 보호 가이드를 포함하는 화장품 보관용 팔레트에 관한 것이다.                          닫기\t\t\t\n",
      "\t\t\t        \t\t\t\t본 발명은 보호 가이드 및 보호 가이드를 포함하는 화장품 보관용 팔레트로서, 보다 상세하게는 화장품 보관용 팔레트에 수용된 화장품의 손상을 방지할 수 있는 보호 가이드 및 보호 가이드를 포함하는 화장품 보관용 팔레트에 관한 것이다.                          닫기\t\t\t\n",
      "\t\t\t        \t\t\t\t본 고안은 약제 자동 분배 포장기의 인쇄장치를 개시한다. 본 고안은 복수의 가이드폴로 이루어진 인쇄리본 이송경로를 갖는 베이스와, 양단이 2개의 롤에 감겨진 인쇄리본을 장착하여 인쇄신호에 따라 인쇄리본을 간헐 이송시키는 릴유닛과, 인쇄리본의 이송경로에 배치되며 엔코더를 동축으로 구비하여 포장지의 이송을 검출하는 검출롤러와, 인쇄리본의 이송경로에 일단이 회전 가능하게 설치되며 인쇄신호에 따라 포장지에 서지사항을 기록하는 프린트헤드유닛과, 인쇄신호의 유무에 따라 프린트헤드유닛을 선택적으로 회전시켜 인쇄리본과 포장지를 검출롤러에 대해 밀착 또는 밀착해제 시키는 프린트헤드유닛 회전수단으로 구성된다. 프린트헤드유닛 회전수단은 프린트헤드유닛의 회전축에 고정되어 소정방향으로 탄성바이어스 되는 레버와, 레버를 탄성 반대방향으로 회전시키는 캠과, 인쇄신호 또는 인쇄중지신호에 따라 캠을 간헐적으로 회전시키는 캠모터로 이루어진다. 본 고안은 프린트헤드가 인쇄리본과 떨어져 있다가 인쇄시만 자동으로 회전되어 인쇄리본을 포장지에 밀착시킴과 함께 인쇄리본의 간헐 이송이 이루어지게 되어 불필요하게 인쇄리본의 낭비를 확실하게 방지할 수 있게 된다. 약제, 포장, 인쇄장치, 포장지, 약제 포장기                          닫기\t\t\t\n"
     ]
    },
    {
     "ename": "KeyboardInterrupt",
     "evalue": "",
     "output_type": "error",
     "traceback": [
      "\u001b[1;31m---------------------------------------------------------------------------\u001b[0m",
      "\u001b[1;31mKeyboardInterrupt\u001b[0m                         Traceback (most recent call last)",
      "Input \u001b[1;32mIn [13]\u001b[0m, in \u001b[0;36m<cell line: 18>\u001b[1;34m()\u001b[0m\n\u001b[0;32m     22\u001b[0m     elem \u001b[38;5;241m=\u001b[39m driver\u001b[38;5;241m.\u001b[39mfind_element(By\u001b[38;5;241m.\u001b[39mCLASS_NAME, \u001b[38;5;124m'\u001b[39m\u001b[38;5;124minput_btn\u001b[39m\u001b[38;5;124m'\u001b[39m)\n\u001b[0;32m     23\u001b[0m     elem\u001b[38;5;241m.\u001b[39mclick()\n\u001b[1;32m---> 24\u001b[0m     \u001b[43msleep\u001b[49m\u001b[43m(\u001b[49m\u001b[38;5;241;43m5\u001b[39;49m\u001b[43m)\u001b[49m \n\u001b[0;32m     26\u001b[0m \u001b[38;5;66;03m#     elem = driver.find_element(By.CLASS_NAME, 'search_info_list')\u001b[39;00m\n\u001b[0;32m     27\u001b[0m \u001b[38;5;66;03m#     linkText = elem.get_property('textContent') # 한 요소의 text 전체를 가져온다.\u001b[39;00m\n\u001b[0;32m     28\u001b[0m \u001b[38;5;66;03m#     sleep(7) \u001b[39;00m\n\u001b[1;32m   (...)\u001b[0m\n\u001b[0;32m     32\u001b[0m \u001b[38;5;66;03m#     li1.append(a)\u001b[39;00m\n\u001b[0;32m     33\u001b[0m \u001b[38;5;66;03m#     li2.append(b)\u001b[39;00m\n\u001b[0;32m     34\u001b[0m     \u001b[38;5;28mprint\u001b[39m(linkText)\n",
      "\u001b[1;31mKeyboardInterrupt\u001b[0m: "
     ]
    }
   ],
   "source": [
    "from selenium import webdriver # 웹 크롤링 라이브러리 호출 \n",
    "from selenium.webdriver.common.by import By\n",
    "from time import sleep\n",
    "\n",
    "# 드라이버를 이용하여 웹페이지를 열기 \n",
    "driver = webdriver.Chrome('chromedriver')\n",
    "# 드라이버를 종료하여 웹페이지를 끄기 \n",
    "driver.quit()\n",
    "\n",
    "# Python 3.7 / Selenium Version New \n",
    "driver = webdriver.Chrome('chromedriver')\n",
    "driver.get('http://kportal.kipris.or.kr/kportal/search/total_search.do') # get : 특정 웹 페이지에 접속 \n",
    "\n",
    "\n",
    "li1 = []\n",
    "li2 = []\n",
    "li3 = []\n",
    "\n",
    "for i in B:\n",
    "    elem = driver.find_element(By.CLASS_NAME, 'keyword')\n",
    "    elem.clear()\n",
    "    elem.send_keys(str(i))\n",
    "    elem = driver.find_element(By.CLASS_NAME, 'input_btn')\n",
    "    elem.click()\n",
    "    sleep(5) \n",
    "\n",
    "    elem = driver.find_element(By.CLASS_NAME, 'search_info_list')\n",
    "    linkText = elem.get_property('textContent') # 한 요소의 text 전체를 가져온다.\n",
    "    sleep(7) \n",
    "    a = linkText.split('\\t\\t\\t')[1]\n",
    "    b = linkText.split('\\t\\t\\t')[2]\n",
    "\n",
    "    li1.append(a)\n",
    "    li2.append(b)\n",
    "    print(linkText)\n",
    "    sleep(7) \n",
    "    elem = driver.find_element(By.CLASS_NAME, 'search_txt')\n",
    "    linkText = elem.get_property('textContent')\n",
    "    print(linkText)\n",
    "    li3.append(linkText)\n",
    "# print(li1)\n",
    "# print(li2)"
   ]
  },
  {
   "cell_type": "markdown",
   "id": "8c07c2fc",
   "metadata": {},
   "source": [
    "# NTIS 크롤링"
   ]
  },
  {
   "cell_type": "code",
   "execution_count": 20,
   "id": "48f34374",
   "metadata": {},
   "outputs": [],
   "source": [
    "a = pd.read_csv('1000.csv', encoding= 'cp949')"
   ]
  },
  {
   "cell_type": "code",
   "execution_count": 21,
   "id": "c8f840eb",
   "metadata": {
    "scrolled": true
   },
   "outputs": [
    {
     "data": {
      "text/html": [
       "<div>\n",
       "<style scoped>\n",
       "    .dataframe tbody tr th:only-of-type {\n",
       "        vertical-align: middle;\n",
       "    }\n",
       "\n",
       "    .dataframe tbody tr th {\n",
       "        vertical-align: top;\n",
       "    }\n",
       "\n",
       "    .dataframe thead th {\n",
       "        text-align: right;\n",
       "    }\n",
       "</style>\n",
       "<table border=\"1\" class=\"dataframe\">\n",
       "  <thead>\n",
       "    <tr style=\"text-align: right;\">\n",
       "      <th></th>\n",
       "      <th>BIZ_NO</th>\n",
       "      <th>COMPANY_NAME</th>\n",
       "      <th>CEO_NAME</th>\n",
       "      <th>IND_CD</th>\n",
       "      <th>IND_NAME</th>\n",
       "      <th>FOUNDATION_DATE</th>\n",
       "      <th>BUSINESS_YEARS</th>\n",
       "      <th>ADDRESS</th>\n",
       "    </tr>\n",
       "  </thead>\n",
       "  <tbody>\n",
       "    <tr>\n",
       "      <th>0</th>\n",
       "      <td>6028206413</td>\n",
       "      <td>부산보건고등학교</td>\n",
       "      <td>김덕겸</td>\n",
       "      <td>58221</td>\n",
       "      <td>시스템 소프트웨어 개발 및 공급업</td>\n",
       "      <td>19721201</td>\n",
       "      <td>50</td>\n",
       "      <td>부산 영도구 절영로 163</td>\n",
       "    </tr>\n",
       "    <tr>\n",
       "      <th>1</th>\n",
       "      <td>1148101364</td>\n",
       "      <td>한국비지네스써비스</td>\n",
       "      <td>김형탁</td>\n",
       "      <td>58220</td>\n",
       "      <td>시스템ㆍ응용 소프트웨어 개발 및 공급업</td>\n",
       "      <td>19730526</td>\n",
       "      <td>49</td>\n",
       "      <td>서울특별시 서초구 반포대로 34 6층 (서초동,로얄빌딩)</td>\n",
       "    </tr>\n",
       "    <tr>\n",
       "      <th>2</th>\n",
       "      <td>1228151166</td>\n",
       "      <td>부창</td>\n",
       "      <td>공익상</td>\n",
       "      <td>58222</td>\n",
       "      <td>응용 소프트웨어 개발 및 공급업</td>\n",
       "      <td>19731117</td>\n",
       "      <td>49</td>\n",
       "      <td>인천광역시 남동구 인주대로614번길 2 604호 (구월동,금화오피스텔)</td>\n",
       "    </tr>\n",
       "    <tr>\n",
       "      <th>3</th>\n",
       "      <td>1068105471</td>\n",
       "      <td>국제전산</td>\n",
       "      <td>김영민외 1명</td>\n",
       "      <td>58221</td>\n",
       "      <td>시스템 소프트웨어 개발 및 공급업</td>\n",
       "      <td>19760210</td>\n",
       "      <td>46</td>\n",
       "      <td>서울특별시 용산구 한강대로77길 12 (갈월동)</td>\n",
       "    </tr>\n",
       "    <tr>\n",
       "      <th>4</th>\n",
       "      <td>1348108473</td>\n",
       "      <td>더존비즈온</td>\n",
       "      <td>김용우</td>\n",
       "      <td>58222</td>\n",
       "      <td>응용 소프트웨어 개발 및 공급업</td>\n",
       "      <td>19770820</td>\n",
       "      <td>45</td>\n",
       "      <td>강원도 춘천시 남산면 버들1길 130 (수동리)</td>\n",
       "    </tr>\n",
       "    <tr>\n",
       "      <th>...</th>\n",
       "      <td>...</td>\n",
       "      <td>...</td>\n",
       "      <td>...</td>\n",
       "      <td>...</td>\n",
       "      <td>...</td>\n",
       "      <td>...</td>\n",
       "      <td>...</td>\n",
       "      <td>...</td>\n",
       "    </tr>\n",
       "    <tr>\n",
       "      <th>995</th>\n",
       "      <td>1108147558</td>\n",
       "      <td>디유넷</td>\n",
       "      <td>김승환외 1명</td>\n",
       "      <td>58222</td>\n",
       "      <td>응용 소프트웨어 개발 및 공급업</td>\n",
       "      <td>20000819</td>\n",
       "      <td>22</td>\n",
       "      <td>서울특별시 서대문구 충정로 29 (충정로3가)</td>\n",
       "    </tr>\n",
       "    <tr>\n",
       "      <th>996</th>\n",
       "      <td>1068195139</td>\n",
       "      <td>더케이교직원나라</td>\n",
       "      <td>김철오</td>\n",
       "      <td>58200</td>\n",
       "      <td>소프트웨어 개발 및 공급업</td>\n",
       "      <td>20001128</td>\n",
       "      <td>22</td>\n",
       "      <td>서울 종로구 창경궁로 117 4층 (인의동,더케이손해보험빌딩)</td>\n",
       "    </tr>\n",
       "    <tr>\n",
       "      <th>997</th>\n",
       "      <td>4098158799</td>\n",
       "      <td>컴이조아</td>\n",
       "      <td>문경진</td>\n",
       "      <td>58220</td>\n",
       "      <td>시스템ㆍ응용 소프트웨어 개발 및 공급업</td>\n",
       "      <td>20001223</td>\n",
       "      <td>22</td>\n",
       "      <td>광주광역시 서구 상무중앙로 110 8층 (치평동,우체국보험회관)</td>\n",
       "    </tr>\n",
       "    <tr>\n",
       "      <th>998</th>\n",
       "      <td>1078187777</td>\n",
       "      <td>이엠네트웍스</td>\n",
       "      <td>김종일</td>\n",
       "      <td>58220</td>\n",
       "      <td>시스템ㆍ응용 소프트웨어 개발 및 공급업</td>\n",
       "      <td>20000726</td>\n",
       "      <td>22</td>\n",
       "      <td>인천광역시 미추홀구 아암대로29번길 16 2406호 (용현동,용현엑슬루타워)</td>\n",
       "    </tr>\n",
       "    <tr>\n",
       "      <th>999</th>\n",
       "      <td>2148671068</td>\n",
       "      <td>제어와정보</td>\n",
       "      <td>이상기</td>\n",
       "      <td>58220</td>\n",
       "      <td>시스템ㆍ응용 소프트웨어 개발 및 공급업</td>\n",
       "      <td>20001109</td>\n",
       "      <td>22</td>\n",
       "      <td>서울특별시 송파구 송이로15길 8 지층 B2호 (가락동)</td>\n",
       "    </tr>\n",
       "  </tbody>\n",
       "</table>\n",
       "<p>1000 rows × 8 columns</p>\n",
       "</div>"
      ],
      "text/plain": [
       "         BIZ_NO COMPANY_NAME CEO_NAME  IND_CD               IND_NAME  \\\n",
       "0    6028206413     부산보건고등학교      김덕겸   58221     시스템 소프트웨어 개발 및 공급업   \n",
       "1    1148101364    한국비지네스써비스      김형탁   58220  시스템ㆍ응용 소프트웨어 개발 및 공급업   \n",
       "2    1228151166           부창      공익상   58222      응용 소프트웨어 개발 및 공급업   \n",
       "3    1068105471         국제전산  김영민외 1명   58221     시스템 소프트웨어 개발 및 공급업   \n",
       "4    1348108473        더존비즈온      김용우   58222      응용 소프트웨어 개발 및 공급업   \n",
       "..          ...          ...      ...     ...                    ...   \n",
       "995  1108147558          디유넷  김승환외 1명   58222      응용 소프트웨어 개발 및 공급업   \n",
       "996  1068195139     더케이교직원나라      김철오   58200         소프트웨어 개발 및 공급업   \n",
       "997  4098158799         컴이조아      문경진   58220  시스템ㆍ응용 소프트웨어 개발 및 공급업   \n",
       "998  1078187777       이엠네트웍스      김종일   58220  시스템ㆍ응용 소프트웨어 개발 및 공급업   \n",
       "999  2148671068        제어와정보      이상기   58220  시스템ㆍ응용 소프트웨어 개발 및 공급업   \n",
       "\n",
       "     FOUNDATION_DATE  BUSINESS_YEARS  \\\n",
       "0           19721201              50   \n",
       "1           19730526              49   \n",
       "2           19731117              49   \n",
       "3           19760210              46   \n",
       "4           19770820              45   \n",
       "..               ...             ...   \n",
       "995         20000819              22   \n",
       "996         20001128              22   \n",
       "997         20001223              22   \n",
       "998         20000726              22   \n",
       "999         20001109              22   \n",
       "\n",
       "                                        ADDRESS  \n",
       "0                                부산 영도구 절영로 163  \n",
       "1               서울특별시 서초구 반포대로 34 6층 (서초동,로얄빌딩)  \n",
       "2       인천광역시 남동구 인주대로614번길 2 604호 (구월동,금화오피스텔)  \n",
       "3                    서울특별시 용산구 한강대로77길 12 (갈월동)  \n",
       "4                    강원도 춘천시 남산면 버들1길 130 (수동리)  \n",
       "..                                          ...  \n",
       "995                   서울특별시 서대문구 충정로 29 (충정로3가)  \n",
       "996          서울 종로구 창경궁로 117 4층 (인의동,더케이손해보험빌딩)  \n",
       "997         광주광역시 서구 상무중앙로 110 8층 (치평동,우체국보험회관)  \n",
       "998  인천광역시 미추홀구 아암대로29번길 16 2406호 (용현동,용현엑슬루타워)  \n",
       "999             서울특별시 송파구 송이로15길 8 지층 B2호 (가락동)  \n",
       "\n",
       "[1000 rows x 8 columns]"
      ]
     },
     "execution_count": 21,
     "metadata": {},
     "output_type": "execute_result"
    }
   ],
   "source": [
    "a"
   ]
  },
  {
   "cell_type": "code",
   "execution_count": 25,
   "id": "33e229a2",
   "metadata": {},
   "outputs": [],
   "source": [
    "a1 = a['COMPANY_NAME']"
   ]
  },
  {
   "cell_type": "code",
   "execution_count": 28,
   "id": "c6d251fd",
   "metadata": {},
   "outputs": [],
   "source": [
    "a1 = a1.tolist()"
   ]
  },
  {
   "cell_type": "code",
   "execution_count": 89,
   "id": "a86aac27",
   "metadata": {
    "scrolled": true
   },
   "outputs": [
    {
     "ename": "ElementNotInteractableException",
     "evalue": "Message: element not interactable\n  (Session info: chrome=107.0.5304.107)\nStacktrace:\nBacktrace:\n\tOrdinal0 [0x0111ACD3+2075859]\n\tOrdinal0 [0x010AEE61+1633889]\n\tOrdinal0 [0x00FAB680+571008]\n\tOrdinal0 [0x00FDBBD6+768982]\n\tOrdinal0 [0x00FD1C76+728182]\n\tOrdinal0 [0x00FF731C+881436]\n\tOrdinal0 [0x00FD15BF+726463]\n\tOrdinal0 [0x00FF7534+881972]\n\tOrdinal0 [0x0100B56A+963946]\n\tOrdinal0 [0x00FF7136+880950]\n\tOrdinal0 [0x00FCFEFD+720637]\n\tOrdinal0 [0x00FD0F3F+724799]\n\tGetHandleVerifier [0x013CEED2+2769538]\n\tGetHandleVerifier [0x013C0D95+2711877]\n\tGetHandleVerifier [0x011AA03A+521194]\n\tGetHandleVerifier [0x011A8DA0+516432]\n\tOrdinal0 [0x010B682C+1665068]\n\tOrdinal0 [0x010BB128+1683752]\n\tOrdinal0 [0x010BB215+1683989]\n\tOrdinal0 [0x010C6484+1729668]\n\tBaseThreadInitThunk [0x760E6359+25]\n\tRtlGetAppContainerNamedObjectPath [0x77467B74+228]\n\tRtlGetAppContainerNamedObjectPath [0x77467B44+180]\n",
     "output_type": "error",
     "traceback": [
      "\u001b[1;31m---------------------------------------------------------------------------\u001b[0m",
      "\u001b[1;31mElementNotInteractableException\u001b[0m           Traceback (most recent call last)",
      "Input \u001b[1;32mIn [89]\u001b[0m, in \u001b[0;36m<cell line: 32>\u001b[1;34m()\u001b[0m\n\u001b[0;32m     32\u001b[0m \u001b[38;5;28;01mfor\u001b[39;00m i \u001b[38;5;129;01min\u001b[39;00m \u001b[38;5;28mrange\u001b[39m(\u001b[38;5;241m0\u001b[39m,\u001b[38;5;28mlen\u001b[39m(a1)):\n\u001b[0;32m     33\u001b[0m         elem \u001b[38;5;241m=\u001b[39m driver\u001b[38;5;241m.\u001b[39mfind_element(By\u001b[38;5;241m.\u001b[39mXPATH, \u001b[38;5;124m'\u001b[39m\u001b[38;5;124m//*[@id=\u001b[39m\u001b[38;5;124m\"\u001b[39m\u001b[38;5;124msearchWord\u001b[39m\u001b[38;5;124m\"\u001b[39m\u001b[38;5;124m]\u001b[39m\u001b[38;5;124m'\u001b[39m)\n\u001b[1;32m---> 34\u001b[0m         \u001b[43melem\u001b[49m\u001b[38;5;241;43m.\u001b[39;49m\u001b[43mclick\u001b[49m\u001b[43m(\u001b[49m\u001b[43m)\u001b[49m\n\u001b[0;32m     35\u001b[0m         elem\u001b[38;5;241m.\u001b[39mclear()\n\u001b[0;32m     36\u001b[0m         key \u001b[38;5;241m=\u001b[39m \u001b[38;5;28mstr\u001b[39m(a1[i])\n",
      "File \u001b[1;32m~\\AppData\\Roaming\\Python\\Python39\\site-packages\\selenium\\webdriver\\remote\\webelement.py:93\u001b[0m, in \u001b[0;36mWebElement.click\u001b[1;34m(self)\u001b[0m\n\u001b[0;32m     91\u001b[0m \u001b[38;5;28;01mdef\u001b[39;00m \u001b[38;5;21mclick\u001b[39m(\u001b[38;5;28mself\u001b[39m) \u001b[38;5;241m-\u001b[39m\u001b[38;5;241m>\u001b[39m \u001b[38;5;28;01mNone\u001b[39;00m:\n\u001b[0;32m     92\u001b[0m     \u001b[38;5;124;03m\"\"\"Clicks the element.\"\"\"\u001b[39;00m\n\u001b[1;32m---> 93\u001b[0m     \u001b[38;5;28;43mself\u001b[39;49m\u001b[38;5;241;43m.\u001b[39;49m\u001b[43m_execute\u001b[49m\u001b[43m(\u001b[49m\u001b[43mCommand\u001b[49m\u001b[38;5;241;43m.\u001b[39;49m\u001b[43mCLICK_ELEMENT\u001b[49m\u001b[43m)\u001b[49m\n",
      "File \u001b[1;32m~\\AppData\\Roaming\\Python\\Python39\\site-packages\\selenium\\webdriver\\remote\\webelement.py:410\u001b[0m, in \u001b[0;36mWebElement._execute\u001b[1;34m(self, command, params)\u001b[0m\n\u001b[0;32m    408\u001b[0m     params \u001b[38;5;241m=\u001b[39m {}\n\u001b[0;32m    409\u001b[0m params[\u001b[38;5;124m\"\u001b[39m\u001b[38;5;124mid\u001b[39m\u001b[38;5;124m\"\u001b[39m] \u001b[38;5;241m=\u001b[39m \u001b[38;5;28mself\u001b[39m\u001b[38;5;241m.\u001b[39m_id\n\u001b[1;32m--> 410\u001b[0m \u001b[38;5;28;01mreturn\u001b[39;00m \u001b[38;5;28;43mself\u001b[39;49m\u001b[38;5;241;43m.\u001b[39;49m\u001b[43m_parent\u001b[49m\u001b[38;5;241;43m.\u001b[39;49m\u001b[43mexecute\u001b[49m\u001b[43m(\u001b[49m\u001b[43mcommand\u001b[49m\u001b[43m,\u001b[49m\u001b[43m \u001b[49m\u001b[43mparams\u001b[49m\u001b[43m)\u001b[49m\n",
      "File \u001b[1;32m~\\AppData\\Roaming\\Python\\Python39\\site-packages\\selenium\\webdriver\\remote\\webdriver.py:444\u001b[0m, in \u001b[0;36mWebDriver.execute\u001b[1;34m(self, driver_command, params)\u001b[0m\n\u001b[0;32m    442\u001b[0m response \u001b[38;5;241m=\u001b[39m \u001b[38;5;28mself\u001b[39m\u001b[38;5;241m.\u001b[39mcommand_executor\u001b[38;5;241m.\u001b[39mexecute(driver_command, params)\n\u001b[0;32m    443\u001b[0m \u001b[38;5;28;01mif\u001b[39;00m response:\n\u001b[1;32m--> 444\u001b[0m     \u001b[38;5;28;43mself\u001b[39;49m\u001b[38;5;241;43m.\u001b[39;49m\u001b[43merror_handler\u001b[49m\u001b[38;5;241;43m.\u001b[39;49m\u001b[43mcheck_response\u001b[49m\u001b[43m(\u001b[49m\u001b[43mresponse\u001b[49m\u001b[43m)\u001b[49m\n\u001b[0;32m    445\u001b[0m     response[\u001b[38;5;124m\"\u001b[39m\u001b[38;5;124mvalue\u001b[39m\u001b[38;5;124m\"\u001b[39m] \u001b[38;5;241m=\u001b[39m \u001b[38;5;28mself\u001b[39m\u001b[38;5;241m.\u001b[39m_unwrap_value(response\u001b[38;5;241m.\u001b[39mget(\u001b[38;5;124m\"\u001b[39m\u001b[38;5;124mvalue\u001b[39m\u001b[38;5;124m\"\u001b[39m, \u001b[38;5;28;01mNone\u001b[39;00m))\n\u001b[0;32m    446\u001b[0m     \u001b[38;5;28;01mreturn\u001b[39;00m response\n",
      "File \u001b[1;32m~\\AppData\\Roaming\\Python\\Python39\\site-packages\\selenium\\webdriver\\remote\\errorhandler.py:249\u001b[0m, in \u001b[0;36mErrorHandler.check_response\u001b[1;34m(self, response)\u001b[0m\n\u001b[0;32m    247\u001b[0m         alert_text \u001b[38;5;241m=\u001b[39m value[\u001b[38;5;124m\"\u001b[39m\u001b[38;5;124malert\u001b[39m\u001b[38;5;124m\"\u001b[39m]\u001b[38;5;241m.\u001b[39mget(\u001b[38;5;124m\"\u001b[39m\u001b[38;5;124mtext\u001b[39m\u001b[38;5;124m\"\u001b[39m)\n\u001b[0;32m    248\u001b[0m     \u001b[38;5;28;01mraise\u001b[39;00m exception_class(message, screen, stacktrace, alert_text)  \u001b[38;5;66;03m# type: ignore[call-arg]  # mypy is not smart enough here\u001b[39;00m\n\u001b[1;32m--> 249\u001b[0m \u001b[38;5;28;01mraise\u001b[39;00m exception_class(message, screen, stacktrace)\n",
      "\u001b[1;31mElementNotInteractableException\u001b[0m: Message: element not interactable\n  (Session info: chrome=107.0.5304.107)\nStacktrace:\nBacktrace:\n\tOrdinal0 [0x0111ACD3+2075859]\n\tOrdinal0 [0x010AEE61+1633889]\n\tOrdinal0 [0x00FAB680+571008]\n\tOrdinal0 [0x00FDBBD6+768982]\n\tOrdinal0 [0x00FD1C76+728182]\n\tOrdinal0 [0x00FF731C+881436]\n\tOrdinal0 [0x00FD15BF+726463]\n\tOrdinal0 [0x00FF7534+881972]\n\tOrdinal0 [0x0100B56A+963946]\n\tOrdinal0 [0x00FF7136+880950]\n\tOrdinal0 [0x00FCFEFD+720637]\n\tOrdinal0 [0x00FD0F3F+724799]\n\tGetHandleVerifier [0x013CEED2+2769538]\n\tGetHandleVerifier [0x013C0D95+2711877]\n\tGetHandleVerifier [0x011AA03A+521194]\n\tGetHandleVerifier [0x011A8DA0+516432]\n\tOrdinal0 [0x010B682C+1665068]\n\tOrdinal0 [0x010BB128+1683752]\n\tOrdinal0 [0x010BB215+1683989]\n\tOrdinal0 [0x010C6484+1729668]\n\tBaseThreadInitThunk [0x760E6359+25]\n\tRtlGetAppContainerNamedObjectPath [0x77467B74+228]\n\tRtlGetAppContainerNamedObjectPath [0x77467B44+180]\n"
     ]
    }
   ],
   "source": [
    "from selenium import webdriver # 웹 크롤링 라이브러리 호출 \n",
    "from selenium.webdriver.common.by import By\n",
    "from time import sleep\n",
    "\n",
    "# 드라이버를 이용하여 웹페이지를 열기 \n",
    "driver = webdriver.Chrome('chromedriver')\n",
    "# 드라이버를 종료하여 웹페이지를 끄기 \n",
    "driver.quit()\n",
    "\n",
    "# Python 3.7 / Selenium Version New \n",
    "driver = webdriver.Chrome('chromedriver')\n",
    "driver.get('https://www.ntis.go.kr/ThSearchResultPatentList.do#') # get : 특정 웹 페이지에 접속 \n",
    "\n",
    "elem = driver.find_element(By.CLASS_NAME, 'login')\n",
    "elem.click()\n",
    "\n",
    "driver.switch_to.window(driver.window_handles[1])\n",
    "\n",
    "elem = driver.find_element(By.CLASS_NAME, 'id')\n",
    "elem.send_keys('joony0830')\n",
    "\n",
    "elem = driver.find_element(By.CLASS_NAME, 'pw')\n",
    "elem.send_keys('jt*06256248')\n",
    "\n",
    "elem = driver.find_element(By.CLASS_NAME, 'btn_blue')\n",
    "elem.click()\n",
    "\n",
    "driver.switch_to.window(driver.window_handles[0])\n",
    "\n",
    "sleep(10)\n",
    "\n",
    "for i in range(0,len(a1)):\n",
    "        elem = driver.find_element(By.XPATH, '//*[@id=\"searchWord\"]')\n",
    "        elem.click()\n",
    "        elem.clear()\n",
    "        key = str(a1[i])\n",
    "        elem.send_keys(key)\n",
    "        elem.send_keys(Keys.ENTER)\n",
    "\n",
    "        sleep(10)\n",
    "        try:\n",
    "            elem = driver.find_element(By.XPATH, '//*[@id=\"searchForm\"]/div[4]/div[2]/div[2]/span[7]')\n",
    "            linkText = elem.get_property('textContent')\n",
    "        except:\n",
    "            pass\n",
    "        try:\n",
    "            if key in linkText:\n",
    "                elem = driver.find_element(By.XPATH, '//*[@id=\"exportData\"]')\n",
    "                elem.click()\n",
    "\n",
    "                sleep(10)  \n",
    "\n",
    "                elem = driver.find_element(By.XPATH, '//*[@id=\"layerRqstPurpCd\"]')\n",
    "\n",
    "                select = Select(elem)\n",
    "                select.select_by_index(5)\n",
    "\n",
    "                elem = driver.find_element(By.XPATH,'//*[@id=\"layerAgreeAll\"]')\n",
    "                driver.execute_script(\"arguments[0].scrollIntoView(true);\", elem)\n",
    "                elem.click()\n",
    "\n",
    "                sleep(10)\n",
    "\n",
    "                elem = driver.find_element(By.XPATH, '//*[@id=\"layerBtnDownload\"]')\n",
    "                elem.click()\n",
    "\n",
    "                elem = driver.find_element(By.XPATH, '//*[@id=\"searchForm\"]/div[4]/div[2]/a')\n",
    "                elem.click()\n",
    "                \n",
    "                sleep(10)\n",
    "        except:\n",
    "            pass"
   ]
  },
  {
   "cell_type": "markdown",
   "id": "f54703db",
   "metadata": {},
   "source": [
    "# DART 크롤링"
   ]
  },
  {
   "cell_type": "code",
   "execution_count": 2,
   "id": "a3d53c25",
   "metadata": {},
   "outputs": [],
   "source": [
    "df_main = pd.read_csv('main_df_merge.csv').drop(columns='Unnamed: 0')"
   ]
  },
  {
   "cell_type": "code",
   "execution_count": 14,
   "id": "14a46737",
   "metadata": {},
   "outputs": [],
   "source": [
    "def spl(a):\n",
    "    a = a.split('.')[0]\n",
    "    return a"
   ]
  },
  {
   "cell_type": "code",
   "execution_count": 17,
   "id": "408b74a9",
   "metadata": {},
   "outputs": [],
   "source": [
    "li = df_main['사업자등록번호'].astype(str).apply(spl)"
   ]
  },
  {
   "cell_type": "code",
   "execution_count": 29,
   "id": "9368c58a",
   "metadata": {},
   "outputs": [
    {
     "data": {
      "text/plain": [
       "46      1048161031\n",
       "47      2158638058\n",
       "48      1168172846\n",
       "49      2208174333\n",
       "50      3148137986\n",
       "           ...    \n",
       "4108    1428184297\n",
       "4109    3948600613\n",
       "4110    2208889117\n",
       "4111    1208820123\n",
       "4112    5018124993\n",
       "Name: 사업자등록번호, Length: 4067, dtype: object"
      ]
     },
     "execution_count": 29,
     "metadata": {},
     "output_type": "execute_result"
    }
   ],
   "source": [
    "li[46:]"
   ]
  },
  {
   "cell_type": "code",
   "execution_count": 22,
   "id": "ece91f62",
   "metadata": {},
   "outputs": [
    {
     "data": {
      "text/plain": [
       "'5048164524'"
      ]
     },
     "execution_count": 22,
     "metadata": {},
     "output_type": "execute_result"
    }
   ],
   "source": [
    "li[0]"
   ]
  },
  {
   "cell_type": "code",
   "execution_count": 20,
   "id": "6dc38a4a",
   "metadata": {
    "scrolled": true
   },
   "outputs": [
    {
     "data": {
      "text/plain": [
       "'504'"
      ]
     },
     "execution_count": 20,
     "metadata": {},
     "output_type": "execute_result"
    }
   ],
   "source": [
    "li[0][:3]"
   ]
  },
  {
   "cell_type": "code",
   "execution_count": 21,
   "id": "95aa2593",
   "metadata": {},
   "outputs": [
    {
     "data": {
      "text/plain": [
       "'81'"
      ]
     },
     "execution_count": 21,
     "metadata": {},
     "output_type": "execute_result"
    }
   ],
   "source": [
    "li[0][3:5]"
   ]
  },
  {
   "cell_type": "code",
   "execution_count": 23,
   "id": "6937b692",
   "metadata": {},
   "outputs": [
    {
     "data": {
      "text/plain": [
       "'64524'"
      ]
     },
     "execution_count": 23,
     "metadata": {},
     "output_type": "execute_result"
    }
   ],
   "source": [
    "li[0][5:]"
   ]
  },
  {
   "cell_type": "code",
   "execution_count": 26,
   "id": "5fd5255a",
   "metadata": {},
   "outputs": [
    {
     "ename": "NameError",
     "evalue": "name 'i' is not defined",
     "output_type": "error",
     "traceback": [
      "\u001b[1;31m---------------------------------------------------------------------------\u001b[0m",
      "\u001b[1;31mNameError\u001b[0m                                 Traceback (most recent call last)",
      "Input \u001b[1;32mIn [26]\u001b[0m, in \u001b[0;36m<cell line: 11>\u001b[1;34m()\u001b[0m\n\u001b[0;32m      8\u001b[0m select \u001b[38;5;241m=\u001b[39m Select(driver\u001b[38;5;241m.\u001b[39mfind_element(By\u001b[38;5;241m.\u001b[39mXPATH,\u001b[38;5;124m'\u001b[39m\u001b[38;5;124m//*[@id=\u001b[39m\u001b[38;5;124m\"\u001b[39m\u001b[38;5;124msearchCorpType\u001b[39m\u001b[38;5;124m\"\u001b[39m\u001b[38;5;124m]\u001b[39m\u001b[38;5;124m'\u001b[39m))\n\u001b[0;32m      9\u001b[0m select\u001b[38;5;241m.\u001b[39mselect_by_index(\u001b[38;5;241m1\u001b[39m)\n\u001b[1;32m---> 11\u001b[0m \u001b[38;5;28;01mfor\u001b[39;00m i \u001b[38;5;129;01min\u001b[39;00m \u001b[38;5;28mrange\u001b[39m(\u001b[38;5;28mlen\u001b[39m(\u001b[43mi\u001b[49m)):\n\u001b[0;32m     12\u001b[0m     elem \u001b[38;5;241m=\u001b[39m driver\u001b[38;5;241m.\u001b[39mfind_element(By\u001b[38;5;241m.\u001b[39mXPATH, \u001b[38;5;124m'\u001b[39m\u001b[38;5;124m//*[@id=\u001b[39m\u001b[38;5;124m\"\u001b[39m\u001b[38;5;124mbsnRgsNo_1\u001b[39m\u001b[38;5;124m\"\u001b[39m\u001b[38;5;124m]\u001b[39m\u001b[38;5;124m'\u001b[39m)\n\u001b[0;32m     13\u001b[0m     elem\u001b[38;5;241m.\u001b[39mclear()\n",
      "\u001b[1;31mNameError\u001b[0m: name 'i' is not defined"
     ]
    }
   ],
   "source": [
    "\n",
    "# 드라이버를 이용하여 웹페이지를 열기 \n",
    "driver = webdriver.Chrome('chromedriver')\n",
    "\n",
    "# Python 3.7 / Selenium Version New \n",
    "driver = webdriver.Chrome('chromedriver')\n",
    "driver.get('https://dart.fss.or.kr/dsae001/main.do') # get : 특정 웹 페이지에 접속 \n",
    "\n",
    "select = Select(driver.find_element(By.XPATH,'//*[@id=\"searchCorpType\"]'))\n",
    "select.select_by_index(1)\n",
    "\n",
    "for i in range(len(li)):\n",
    "    elem = driver.find_element(By.XPATH, '//*[@id=\"bsnRgsNo_1\"]')\n",
    "    elem.clear()\n",
    "    elem.send_keys(li[i][:3])\n",
    "    elem = driver.find_element(By.XPATH, '//*[@id=\"bsnRgsNo_2\"]')\n",
    "    elem.clear()\n",
    "    elem.send_keys(li[i][3:5])\n",
    "    elem = driver.find_element(By.XPATH, '//*[@id=\"bsnRgsNo_3\"]')\n",
    "    elem.clear()\n",
    "    elem.send_keys(li[i][5:])\n",
    "    elem = driver.find_element(By.XPATH, '//*[@id=\"rightWrap\"]/div[1]/div[1]/ul/li[3]/a')\n",
    "    elem.click()\n",
    "\n",
    "    elem = driver.find_element(By.XPATH, '//*[@id=\"corpTabel\"]/tbody/tr/td')\n",
    "    linkText = elem.get_property('textContent')\n",
    "    if linkText == '일치하는 회사명이 없습니다.':\n",
    "        pass\n",
    "    else:\n",
    "        elem = driver.find_element(By.XPATH, '//*[@id=\"rightWrap\"]/div[1]/div[2]/a')\n",
    "        elem.click()\n",
    "    "
   ]
  },
  {
   "cell_type": "code",
   "execution_count": null,
   "id": "8ed9b64e",
   "metadata": {},
   "outputs": [],
   "source": []
  },
  {
   "cell_type": "code",
   "execution_count": null,
   "id": "25c6db43",
   "metadata": {},
   "outputs": [],
   "source": []
  }
 ],
 "metadata": {
  "kernelspec": {
   "display_name": "Python 3 (ipykernel)",
   "language": "python",
   "name": "python3"
  },
  "language_info": {
   "codemirror_mode": {
    "name": "ipython",
    "version": 3
   },
   "file_extension": ".py",
   "mimetype": "text/x-python",
   "name": "python",
   "nbconvert_exporter": "python",
   "pygments_lexer": "ipython3",
   "version": "3.9.12"
  }
 },
 "nbformat": 4,
 "nbformat_minor": 5
}
